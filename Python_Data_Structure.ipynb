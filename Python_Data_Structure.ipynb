{
  "nbformat": 4,
  "nbformat_minor": 0,
  "metadata": {
    "colab": {
      "provenance": []
    },
    "kernelspec": {
      "name": "python3",
      "display_name": "Python 3"
    },
    "language_info": {
      "name": "python"
    }
  },
  "cells": [
    {
      "cell_type": "markdown",
      "source": [
        "1. Discuss string slicing and provide examples.\n",
        "\n",
        "->Python allows you to extract a subsset of character from a given string."
      ],
      "metadata": {
        "id": "DSrV3XBGTldT"
      }
    },
    {
      "cell_type": "code",
      "source": [
        "name = \"Mahesh\"\n",
        "name[0]"
      ],
      "metadata": {
        "colab": {
          "base_uri": "https://localhost:8080/",
          "height": 36
        },
        "id": "cee7Zg3dTrGP",
        "outputId": "85363a2c-ac61-4e76-9db2-700f0aaca44f"
      },
      "execution_count": 2,
      "outputs": [
        {
          "output_type": "execute_result",
          "data": {
            "text/plain": [
              "'M'"
            ],
            "application/vnd.google.colaboratory.intrinsic+json": {
              "type": "string"
            }
          },
          "metadata": {},
          "execution_count": 2
        }
      ]
    },
    {
      "cell_type": "code",
      "source": [
        "name[-1]"
      ],
      "metadata": {
        "colab": {
          "base_uri": "https://localhost:8080/",
          "height": 36
        },
        "id": "c2P4Lh8-VxLS",
        "outputId": "96088ca8-ed1c-434a-8449-9790bdcb80ed"
      },
      "execution_count": 3,
      "outputs": [
        {
          "output_type": "execute_result",
          "data": {
            "text/plain": [
              "'h'"
            ],
            "application/vnd.google.colaboratory.intrinsic+json": {
              "type": "string"
            }
          },
          "metadata": {},
          "execution_count": 3
        }
      ]
    },
    {
      "cell_type": "code",
      "source": [
        "string1 = \"I am learning new skill\"\n",
        "string1[0:4] #4 is exclusive."
      ],
      "metadata": {
        "colab": {
          "base_uri": "https://localhost:8080/",
          "height": 36
        },
        "id": "wJ2__-hNTrSS",
        "outputId": "41d5bf11-1ce6-4bcf-c184-8dcc2dd534bf"
      },
      "execution_count": 4,
      "outputs": [
        {
          "output_type": "execute_result",
          "data": {
            "text/plain": [
              "'I am'"
            ],
            "application/vnd.google.colaboratory.intrinsic+json": {
              "type": "string"
            }
          },
          "metadata": {},
          "execution_count": 4
        }
      ]
    },
    {
      "cell_type": "code",
      "source": [
        "string1[5:13]"
      ],
      "metadata": {
        "colab": {
          "base_uri": "https://localhost:8080/",
          "height": 36
        },
        "id": "b_Do4lUFTrUG",
        "outputId": "164da73c-494e-47b4-e520-7f6c007e5bbe"
      },
      "execution_count": 7,
      "outputs": [
        {
          "output_type": "execute_result",
          "data": {
            "text/plain": [
              "'learning'"
            ],
            "application/vnd.google.colaboratory.intrinsic+json": {
              "type": "string"
            }
          },
          "metadata": {},
          "execution_count": 7
        }
      ]
    },
    {
      "cell_type": "code",
      "source": [
        "string1[5:]\n"
      ],
      "metadata": {
        "colab": {
          "base_uri": "https://localhost:8080/",
          "height": 36
        },
        "id": "rWuJmZsOTrV_",
        "outputId": "f85abea8-f2ba-4675-e022-02de56998780"
      },
      "execution_count": 9,
      "outputs": [
        {
          "output_type": "execute_result",
          "data": {
            "text/plain": [
              "'learning new skill'"
            ],
            "application/vnd.google.colaboratory.intrinsic+json": {
              "type": "string"
            }
          },
          "metadata": {},
          "execution_count": 9
        }
      ]
    },
    {
      "cell_type": "code",
      "source": [
        "string2=\"they were playing outside\""
      ],
      "metadata": {
        "id": "krZnVOufWdra"
      },
      "execution_count": 16,
      "outputs": []
    },
    {
      "cell_type": "code",
      "source": [
        "string2[-2]"
      ],
      "metadata": {
        "colab": {
          "base_uri": "https://localhost:8080/",
          "height": 36
        },
        "id": "tOIKSnMoTrY8",
        "outputId": "1b5606dd-0405-4897-95d5-c375f7325fd8"
      },
      "execution_count": 17,
      "outputs": [
        {
          "output_type": "execute_result",
          "data": {
            "text/plain": [
              "'d'"
            ],
            "application/vnd.google.colaboratory.intrinsic+json": {
              "type": "string"
            }
          },
          "metadata": {},
          "execution_count": 17
        }
      ]
    },
    {
      "cell_type": "code",
      "source": [
        "string2[0:5:2]#syntax>> [start:end:step]"
      ],
      "metadata": {
        "colab": {
          "base_uri": "https://localhost:8080/",
          "height": 36
        },
        "id": "fR77gJM_TrbH",
        "outputId": "699b6763-65e1-4a3b-fc9a-a9fa4c9e56b4"
      },
      "execution_count": 19,
      "outputs": [
        {
          "output_type": "execute_result",
          "data": {
            "text/plain": [
              "'te '"
            ],
            "application/vnd.google.colaboratory.intrinsic+json": {
              "type": "string"
            }
          },
          "metadata": {},
          "execution_count": 19
        }
      ]
    },
    {
      "cell_type": "code",
      "source": [
        "string2[::2]"
      ],
      "metadata": {
        "colab": {
          "base_uri": "https://localhost:8080/",
          "height": 36
        },
        "id": "-9Plju-aTrd_",
        "outputId": "ba773121-09ca-494d-e2ea-c65bc67ffa24"
      },
      "execution_count": 20,
      "outputs": [
        {
          "output_type": "execute_result",
          "data": {
            "text/plain": [
              "'te eepaigotie'"
            ],
            "application/vnd.google.colaboratory.intrinsic+json": {
              "type": "string"
            }
          },
          "metadata": {},
          "execution_count": 20
        }
      ]
    },
    {
      "cell_type": "markdown",
      "source": [
        "2. Explain the key features of lists in Python.\n",
        "\n",
        "->A list is one of the most versatile and commonly used data structures in Python. It is an ordered collection\n",
        "of elements that can be of any data type, such as integers, strings, or other lists.n\n",
        "k Lists are mutable, which means you can change their contents after creation.n\n",
        "k You can access elements by their index, and you can perform various operations like adding, removing, or\n",
        "sorting elements."
      ],
      "metadata": {
        "id": "PJyieDB3XZfx"
      }
    },
    {
      "cell_type": "code",
      "source": [
        "# Creating a list with diifernt types of data types.\n",
        "emp = [\"Mahesh\", 210000, 20,]\n",
        "name = emp[0]\n",
        "salary = emp[1]\n",
        "age = emp[2]\n",
        "print(\"Name:\", name)\n",
        "print(\"salary:\", salary)\n",
        "print(\"Age:\", age)"
      ],
      "metadata": {
        "colab": {
          "base_uri": "https://localhost:8080/"
        },
        "id": "_tcnJQ5DXYaI",
        "outputId": "0a7b2bf6-f235-483b-bd6c-aa92ec57e70f"
      },
      "execution_count": 22,
      "outputs": [
        {
          "output_type": "stream",
          "name": "stdout",
          "text": [
            "Name: Mahesh\n",
            "salary: 210000\n",
            "Age: 20\n"
          ]
        }
      ]
    },
    {
      "cell_type": "markdown",
      "source": [
        "3. Describe how to access, modify, and delete elements in a list with examples.\n",
        "\n",
        "\n",
        "\n",
        "*   By using index we can access list\n",
        "*   .apped= used to append object to the\n",
        "end of list\n",
        "\n",
        "*   .remove=is used to delete element in a list\n",
        "\n",
        "\n"
      ],
      "metadata": {
        "id": "T5i79iBkZDSa"
      }
    },
    {
      "cell_type": "code",
      "source": [
        "#list inside list.\n",
        "a=[[1,2,3],[3,4,5],[6,7,8]]\n",
        "#      |        |       |\n",
        "#      0         1       2  --->index\n",
        "a[1]\n",
        "\n"
      ],
      "metadata": {
        "colab": {
          "base_uri": "https://localhost:8080/"
        },
        "id": "x14RGUi9X05o",
        "outputId": "be911e17-9cf5-455c-c4fd-dc1eb7e8d1f5"
      },
      "execution_count": null,
      "outputs": [
        {
          "output_type": "execute_result",
          "data": {
            "text/plain": [
              "[3, 4, 5]"
            ]
          },
          "metadata": {},
          "execution_count": 8
        }
      ]
    },
    {
      "cell_type": "code",
      "source": [
        "#adding and deleting element to the list.\n",
        "a=[1,2,3,\"mango\",\"carrot\",True,False]\n",
        "a.append(\"orange\" )\n",
        "a.remove(\"mango\" )\n",
        "a"
      ],
      "metadata": {
        "colab": {
          "base_uri": "https://localhost:8080/"
        },
        "id": "YxMfrLHPTrjd",
        "outputId": "d6c5c856-f53d-45f6-8af1-f3e821709e29"
      },
      "execution_count": 23,
      "outputs": [
        {
          "output_type": "execute_result",
          "data": {
            "text/plain": [
              "[1, 2, 3, 'carrot', True, False, 'orange']"
            ]
          },
          "metadata": {},
          "execution_count": 23
        }
      ]
    },
    {
      "cell_type": "markdown",
      "source": [
        "4. Compare and contrast tuples and lists with examples.\n",
        "\n",
        "->Tuples vs Lists in Python\n",
        "Tuples and lists are two fundamental data structures in Python. While they share some similarities, they have distinct differences.\n",
        "*Similarities:*\n",
        "1. Both can store multiple values.\n",
        "2. Both are ordered collections.\n",
        "3. Both support indexing and slicing.\n",
        "*Differences:*\n",
        "*1. Immutability*\n",
        "- Tuples are *immutable* (cannot be changed).\n",
        "- Lists are *mutable* (can be changed).\n",
        "```\n",
        "*2. Syntax\n",
        "- Tuples use parentheses `()` or no parentheses at   all.\n",
        "- Lists use square brackets `[]`\n",
        "*3. Performance\n",
        "- Tuples are faster and more memory-efficient.\n",
        "- Lists are slower and more memory-intensive."
      ],
      "metadata": {
        "id": "A2KqXGoCbjN0"
      }
    },
    {
      "cell_type": "code",
      "source": [
        "#list is muttable\n",
        "shopping_list=[\"sugar\",\"milk\",\"peanut\",\"toothpaste\"]\n",
        "shopping_list[2]=\"biscuits\"\n",
        "shopping_list"
      ],
      "metadata": {
        "colab": {
          "base_uri": "https://localhost:8080/"
        },
        "id": "KHsrGIl7TrlW",
        "outputId": "4a4f47f1-ea0e-4199-df78-bb40b1f58013"
      },
      "execution_count": 24,
      "outputs": [
        {
          "output_type": "execute_result",
          "data": {
            "text/plain": [
              "['sugar', 'milk', 'biscuits', 'toothpaste']"
            ]
          },
          "metadata": {},
          "execution_count": 24
        }
      ]
    },
    {
      "cell_type": "code",
      "source": [
        "#tuple=>immutable.>>tupple is also store heterogenous data.\n",
        "c=(1,2,3,4.5,\"mango\",\"carrot\",True,False)\n",
        "c"
      ],
      "metadata": {
        "colab": {
          "base_uri": "https://localhost:8080/"
        },
        "id": "p7KhxNPDTrqH",
        "outputId": "45fb3045-aa78-4d35-e701-2f151b416cb4"
      },
      "execution_count": 25,
      "outputs": [
        {
          "output_type": "execute_result",
          "data": {
            "text/plain": [
              "(1, 2, 3, 4.5, 'mango', 'carrot', True, False)"
            ]
          },
          "metadata": {},
          "execution_count": 25
        }
      ]
    },
    {
      "cell_type": "code",
      "source": [
        "c[1]=6#immutable."
      ],
      "metadata": {
        "colab": {
          "base_uri": "https://localhost:8080/",
          "height": 146
        },
        "id": "xjjVG-zzTrvx",
        "outputId": "c163a48d-b202-4f6a-aabf-f3fd07506cdf"
      },
      "execution_count": 26,
      "outputs": [
        {
          "output_type": "error",
          "ename": "TypeError",
          "evalue": "'tuple' object does not support item assignment",
          "traceback": [
            "\u001b[0;31m---------------------------------------------------------------------------\u001b[0m",
            "\u001b[0;31mTypeError\u001b[0m                                 Traceback (most recent call last)",
            "\u001b[0;32m<ipython-input-26-0ac5f60e2024>\u001b[0m in \u001b[0;36m<cell line: 1>\u001b[0;34m()\u001b[0m\n\u001b[0;32m----> 1\u001b[0;31m \u001b[0mc\u001b[0m\u001b[0;34m[\u001b[0m\u001b[0;36m1\u001b[0m\u001b[0;34m]\u001b[0m\u001b[0;34m=\u001b[0m\u001b[0;36m6\u001b[0m\u001b[0;31m#immutable.\u001b[0m\u001b[0;34m\u001b[0m\u001b[0;34m\u001b[0m\u001b[0m\n\u001b[0m",
            "\u001b[0;31mTypeError\u001b[0m: 'tuple' object does not support item assignment"
          ]
        }
      ]
    },
    {
      "cell_type": "markdown",
      "source": [
        "5. Describe the key features of sets and provide examples of their use.\n",
        "\n",
        "->Sets are unordered collections of unique elements. They are useful when you need to work with distinct items\n",
        "and perform set operations like union, intersection, and difference.£\n",
        " Sets are mutable, so you can add and remove elements, but the elements themselves must be immutable."
      ],
      "metadata": {
        "id": "D6UFDNKTdy_W"
      }
    },
    {
      "cell_type": "code",
      "source": [
        "#>>use case of sets\n",
        "grocery_list={\"sugar\",\"soap\",\"toothpaste\",\"toothpaste\",\"sugar\"}\n",
        "grocery_list"
      ],
      "metadata": {
        "colab": {
          "base_uri": "https://localhost:8080/"
        },
        "id": "-VWY2bUqTrxy",
        "outputId": "e54595d9-ee61-41a6-ef59-4f1907384f4d"
      },
      "execution_count": 27,
      "outputs": [
        {
          "output_type": "execute_result",
          "data": {
            "text/plain": [
              "{'soap', 'sugar', 'toothpaste'}"
            ]
          },
          "metadata": {},
          "execution_count": 27
        }
      ]
    },
    {
      "cell_type": "markdown",
      "source": [
        "6. Discuss the use cases of tuples and sets in Python programming."
      ],
      "metadata": {
        "id": "IfFpZlPKfLEh"
      }
    },
    {
      "cell_type": "code",
      "source": [
        "user_logins = {'user1', 'user2', 'user3'}\n",
        "user_logins.add('user4')\n",
        "user_logins.add('user2')\n",
        "print(f\"Unique User Logins: {user_logins}\")\n",
        "if 'user3' in user_logins:\n",
        "    print(\"User3 has logged in.\")"
      ],
      "metadata": {
        "colab": {
          "base_uri": "https://localhost:8080/"
        },
        "id": "9Q9qZjW1y8BC",
        "outputId": "49f9eec1-19ad-47fe-9b97-d0b706c08113"
      },
      "execution_count": 59,
      "outputs": [
        {
          "output_type": "stream",
          "name": "stdout",
          "text": [
            "Unique User Logins: {'user1', 'user4', 'user3', 'user2'}\n",
            "User3 has logged in.\n"
          ]
        }
      ]
    },
    {
      "cell_type": "markdown",
      "source": [
        "7. Describe how to add, modify, and delete items in a dictionary with examples."
      ],
      "metadata": {
        "id": "QqQ2vCfQizjn"
      }
    },
    {
      "cell_type": "code",
      "source": [
        "#Representation of Dictionary.\n",
        "phonebook={\"mom\":123,\"brother\":345,\"sister\":567}\n",
        "phonebook"
      ],
      "metadata": {
        "colab": {
          "base_uri": "https://localhost:8080/"
        },
        "id": "xWBANzpdTr3a",
        "outputId": "096589d0-91b9-440e-a6f2-ac5d954ce309"
      },
      "execution_count": 37,
      "outputs": [
        {
          "output_type": "execute_result",
          "data": {
            "text/plain": [
              "{'mom': 123, 'brother': 345, 'sister': 567}"
            ]
          },
          "metadata": {},
          "execution_count": 37
        }
      ]
    },
    {
      "cell_type": "code",
      "source": [
        "# adding items in a dictionary.\n",
        "phonebook[\"brother\"]=454\n",
        "phonebook"
      ],
      "metadata": {
        "colab": {
          "base_uri": "https://localhost:8080/"
        },
        "id": "Non9qLZHTr6Q",
        "outputId": "bb0053e1-8bf7-48a1-c387-63430a4d718e"
      },
      "execution_count": 38,
      "outputs": [
        {
          "output_type": "execute_result",
          "data": {
            "text/plain": [
              "{'mom': 123, 'brother': 454, 'sister': 567}"
            ]
          },
          "metadata": {},
          "execution_count": 38
        }
      ]
    },
    {
      "cell_type": "code",
      "source": [
        "#deleting items in a dictionary.\n",
        "phonebook.pop(\"sister\")\n",
        "phonebook"
      ],
      "metadata": {
        "colab": {
          "base_uri": "https://localhost:8080/"
        },
        "id": "OGdIOEfSTr8d",
        "outputId": "b93dde2e-6ca1-4b5a-b65b-9c3bbd3f5084"
      },
      "execution_count": 39,
      "outputs": [
        {
          "output_type": "execute_result",
          "data": {
            "text/plain": [
              "{'mom': 123, 'brother': 454}"
            ]
          },
          "metadata": {},
          "execution_count": 39
        }
      ]
    },
    {
      "cell_type": "code",
      "source": [
        "#modify items in a dictionary.\n",
        "phonebook[\"friend\"] = 145\n",
        "phonebook"
      ],
      "metadata": {
        "colab": {
          "base_uri": "https://localhost:8080/"
        },
        "id": "mx7AKo0oTr-a",
        "outputId": "0507b16c-3f7e-41b9-d987-53ca92fa2cc8"
      },
      "execution_count": 40,
      "outputs": [
        {
          "output_type": "execute_result",
          "data": {
            "text/plain": [
              "{'mom': 123, 'brother': 454, 'friend': 145}"
            ]
          },
          "metadata": {},
          "execution_count": 40
        }
      ]
    },
    {
      "cell_type": "markdown",
      "source": [
        " 8.Discuss the importance of dictionary keys being immutable and provide examples.\n",
        "\n",
        " ->• Immutable keys (like strings and tuples) work perfectly in dictionaries.\n",
        "\n",
        "• Mutable keys (like lists) will raise an error because they can't be used as dictionary keys.\n",
        "This keeps the dictionary reliable and efficient!\n",
        "\n"
      ],
      "metadata": {
        "id": "zBPgfO_IlyD_"
      }
    },
    {
      "cell_type": "code",
      "source": [
        "my_dict = {}\n",
        "my_dict['key1'] = 'value1'  # String is immutable\n",
        "my_dict[(1, 2)] = 'value2'   # Tuple is immutable\n",
        "# This works because both keys are immutable\n",
        "print(my_dict)"
      ],
      "metadata": {
        "colab": {
          "base_uri": "https://localhost:8080/"
        },
        "id": "IpBe9LO_TsJ6",
        "outputId": "18061eed-647b-43f9-fb21-3ecd01fbec9b"
      },
      "execution_count": 51,
      "outputs": [
        {
          "output_type": "stream",
          "name": "stdout",
          "text": [
            "{'key1': 'value1', (1, 2): 'value2'}\n"
          ]
        }
      ]
    }
  ]
}