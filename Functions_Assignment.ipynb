{
  "nbformat": 4,
  "nbformat_minor": 0,
  "metadata": {
    "colab": {
      "provenance": []
    },
    "kernelspec": {
      "name": "python3",
      "display_name": "Python 3"
    },
    "language_info": {
      "name": "python"
    }
  },
  "cells": [
    {
      "cell_type": "markdown",
      "source": [
        "1. What is the difference between a function and a method in Python?\n",
        "Function: A block of reusable code that is defined using the def keyword and can be called independently.\n",
        "\n",
        "Method: A function that is associated with an object or class. It is called using the dot (.) notation."
      ],
      "metadata": {
        "id": "idGrrXmzaM54"
      }
    },
    {
      "cell_type": "code",
      "source": [
        "def greet():\n",
        "    return \"Hello!\"  # Function\n",
        "\n",
        "text = \"hello\"\n",
        "print(text.upper())  # Method (str.upper)\n"
      ],
      "metadata": {
        "colab": {
          "base_uri": "https://localhost:8080/"
        },
        "id": "ez385mgDai30",
        "outputId": "539a95dd-cdbc-43e6-9056-ae6dcf2f8b7c"
      },
      "execution_count": null,
      "outputs": [
        {
          "output_type": "stream",
          "name": "stdout",
          "text": [
            "HELLO\n"
          ]
        }
      ]
    },
    {
      "cell_type": "markdown",
      "source": [
        "2. Explain the concept of function arguments and parameters in Python.\n",
        "Parameters: Variables listed in a function definition.\n",
        "\n",
        "Arguments: Values passed to the function when it is called."
      ],
      "metadata": {
        "id": "9R675tZoamZG"
      }
    },
    {
      "cell_type": "code",
      "source": [
        "def add(x, y):  # x and y are parameters\n",
        "    return x + y\n",
        "\n",
        "print(add(2, 3))  # 2 and 3 are arguments\n"
      ],
      "metadata": {
        "colab": {
          "base_uri": "https://localhost:8080/"
        },
        "id": "ZqZp95meapHV",
        "outputId": "e5cfe98e-ad14-4544-8184-eec998e68603"
      },
      "execution_count": null,
      "outputs": [
        {
          "output_type": "stream",
          "name": "stdout",
          "text": [
            "5\n"
          ]
        }
      ]
    },
    {
      "cell_type": "markdown",
      "source": [
        "3. What are the different ways to define and call a function in Python?\n",
        "Defining: Using the def keyword or a lambda expression.\n",
        "\n",
        "Calling: Using the function name followed by parentheses.\n",
        "\n",
        "Examples:"
      ],
      "metadata": {
        "id": "hV0W5hErasxs"
      }
    },
    {
      "cell_type": "code",
      "source": [
        "# Regular function\n",
        "def square(x):\n",
        "    return x * x\n",
        "\n",
        "print(square(4))\n",
        "\n",
        "# Lambda function\n",
        "square = lambda x: x * x\n",
        "print(square(5))\n"
      ],
      "metadata": {
        "colab": {
          "base_uri": "https://localhost:8080/"
        },
        "id": "FMwdcNxSayrA",
        "outputId": "c5aaf2a9-986a-418e-f568-5d8d8b9b2e50"
      },
      "execution_count": null,
      "outputs": [
        {
          "output_type": "stream",
          "name": "stdout",
          "text": [
            "16\n",
            "25\n"
          ]
        }
      ]
    },
    {
      "cell_type": "markdown",
      "source": [
        "4. What is the purpose of the return statement in a Python function?\n",
        "It ends the function execution and sends back a result to the caller.\n",
        "\n",
        "Example:"
      ],
      "metadata": {
        "id": "hGIQkPUNa1b8"
      }
    },
    {
      "cell_type": "code",
      "source": [
        "def multiply(a, b):\n",
        "    return a * b\n",
        "\n",
        "result = multiply(3, 4)\n",
        "print(result)  # Output: 12\n"
      ],
      "metadata": {
        "colab": {
          "base_uri": "https://localhost:8080/"
        },
        "id": "iGNO7cCda4Pj",
        "outputId": "e9190133-5f67-41ca-fd35-9ff6b0130768"
      },
      "execution_count": null,
      "outputs": [
        {
          "output_type": "stream",
          "name": "stdout",
          "text": [
            "12\n"
          ]
        }
      ]
    },
    {
      "cell_type": "markdown",
      "source": [
        "\n",
        "5. What are iterators in Python and how do they differ from iterables?\n",
        "Iterable: An object capable of returning its elements one at a time (e.g., list, string).\n",
        "\n",
        "Iterator: An object that represents a stream of data; it uses __iter__() and __next__().\n",
        "\n",
        "Example:"
      ],
      "metadata": {
        "id": "0mUf4SCBa6wc"
      }
    },
    {
      "cell_type": "code",
      "source": [
        "numbers = [1, 2, 3]  # Iterable\n",
        "it = iter(numbers)   # Iterator\n",
        "\n",
        "print(next(it))  # Output: 1\n"
      ],
      "metadata": {
        "colab": {
          "base_uri": "https://localhost:8080/"
        },
        "id": "WrkqJAOea-r_",
        "outputId": "5bee4e7b-05ad-4deb-e096-f180b1bd221d"
      },
      "execution_count": null,
      "outputs": [
        {
          "output_type": "stream",
          "name": "stdout",
          "text": [
            "1\n"
          ]
        }
      ]
    },
    {
      "cell_type": "markdown",
      "source": [
        "6. Explain the concept of generators in Python and how they are defined.\n",
        "Generators produce items one at a time using yield and do not store all values in memory.\n",
        "\n",
        "Example:"
      ],
      "metadata": {
        "id": "JScfKg4jbBBe"
      }
    },
    {
      "cell_type": "code",
      "source": [
        "def countdown(n):\n",
        "    while n > 0:\n",
        "        yield n\n",
        "        n -= 1\n",
        "\n",
        "for num in countdown(3):\n",
        "    print(num)\n"
      ],
      "metadata": {
        "colab": {
          "base_uri": "https://localhost:8080/"
        },
        "id": "1Lt-GFSRbEHh",
        "outputId": "a5854808-2d5e-4be6-8051-84c41e17e084"
      },
      "execution_count": null,
      "outputs": [
        {
          "output_type": "stream",
          "name": "stdout",
          "text": [
            "3\n",
            "2\n",
            "1\n"
          ]
        }
      ]
    },
    {
      "cell_type": "markdown",
      "source": [
        "7. What are the advantages of using generators over regular functions?\n",
        "\n",
        "Memory-efficient.\n",
        "\n",
        "Lazy evaluation (values generated on demand).\n",
        "\n",
        "Useful for large data streams or infinite sequences."
      ],
      "metadata": {
        "id": "0WV5Tf7SbGka"
      }
    },
    {
      "cell_type": "markdown",
      "source": [
        "8. What is a lambda function in Python and when is it typically used?\n",
        "\n",
        "An anonymous (nameless) function defined using the lambda keyword.\n",
        "\n",
        "Used for short, simple operations especially in functional programming.\n",
        "\n",
        "Example:"
      ],
      "metadata": {
        "id": "-nd6PUs0bR2J"
      }
    },
    {
      "cell_type": "code",
      "source": [
        "square = lambda x: x ** 2\n",
        "print(square(6))\n"
      ],
      "metadata": {
        "colab": {
          "base_uri": "https://localhost:8080/"
        },
        "id": "Qi2qdd3IbVzZ",
        "outputId": "83045ae7-bedb-46c6-d444-e2e44bf2cf49"
      },
      "execution_count": null,
      "outputs": [
        {
          "output_type": "stream",
          "name": "stdout",
          "text": [
            "36\n"
          ]
        }
      ]
    },
    {
      "cell_type": "markdown",
      "source": [
        "9. Explain the purpose and usage of the map() function in Python.\n",
        "Applies a function to all items in an iterable.\n",
        "\n",
        "Example:"
      ],
      "metadata": {
        "id": "da6F2LEhbYLN"
      }
    },
    {
      "cell_type": "code",
      "source": [
        "numbers = [1, 2, 3, 4]\n",
        "squares = list(map(lambda x: x ** 2, numbers))\n",
        "print(squares)  # Output: [1, 4, 9, 16]\n"
      ],
      "metadata": {
        "colab": {
          "base_uri": "https://localhost:8080/"
        },
        "id": "6rMfH1J0ba6q",
        "outputId": "e57539d5-b849-4846-cac8-8378594a6f4f"
      },
      "execution_count": null,
      "outputs": [
        {
          "output_type": "stream",
          "name": "stdout",
          "text": [
            "[1, 4, 9, 16]\n"
          ]
        }
      ]
    },
    {
      "cell_type": "markdown",
      "source": [
        "10.. What is the difference between `map()`, `reduce()`, and `filter()` functions in Python?\n",
        " Here’s how they differ:\n",
        "\n",
        "### **1. `map()`** – **Applies a function to each element in an iterable**\n",
        "- `map()` takes a function and an iterable, applies the function to every element, and returns a map object (which can be converted into a list).\n",
        "- **Example:**\n",
        "  ```python\n",
        "  numbers = [1, 2, 3, 4]\n",
        "  squared = list(map(lambda x: x**2, numbers))\n",
        "  print(squared)  # Output: [1, 4, 9, 16]\n",
        "  ```\n",
        "\n",
        "### **2. `filter()`** – **Filters elements based on a condition**\n",
        "- `filter()` takes a function that returns `True` or `False` and an iterable. It keeps only elements for which the function returns `True`.\n",
        "- **Example:**\n",
        "  ```python\n",
        "  numbers = [1, 2, 3, 4, 5]\n",
        "  even_numbers = list(filter(lambda x: x % 2 == 0, numbers))\n",
        "  print(even_numbers)  # Output: [2, 4]\n",
        "  ```\n",
        "\n",
        "### **3. `reduce()`** – **Reduces an iterable to a single value**\n",
        "- `reduce()` applies a function cumulatively to elements, reducing the iterable to a single result.\n",
        "- It requires importing from the `functools` module.\n",
        "- **Example:**\n",
        "  ```python\n",
        "  from functools import reduce\n",
        "  numbers = [1, 2, 3, 4]\n",
        "  sum_numbers = reduce(lambda x, y: x + y, numbers)\n",
        "  print(sum_numbers)  # Output: 10\n",
        "  ```\n",
        "\n",
        "### **Summary Table**\n",
        "| Function  | Purpose |\n",
        "|-----------|---------|\n",
        "| `map()`   | Applies a function to every item in an iterable |\n",
        "| `filter()` | Filters elements based on a condition |\n",
        "| `reduce()` | Applies a function cumulatively, reducing the iterable to a single result |\n",
        "\n"
      ],
      "metadata": {
        "id": "n_QSdHj_biBp"
      }
    },
    {
      "cell_type": "markdown",
      "source": [],
      "metadata": {
        "id": "pptBYu9q42-y"
      }
    },
    {
      "cell_type": "code",
      "source": [
        "# 1. Write a Python function that takes a list of numbers as input and returns the sum of all even numbers in the list.\n",
        "\n",
        "def sum_of_evens(numbers):\n",
        "    return sum(num for num in numbers if num % 2 == 0)\n",
        "\n",
        "# Example usage:\n",
        "print(sum_of_evens([1, 2, 3, 4, 5, 6]))  # Output: 12\n"
      ],
      "metadata": {
        "colab": {
          "base_uri": "https://localhost:8080/"
        },
        "id": "32GH7UNB47Fx",
        "outputId": "aaf3cd42-2177-44f0-f1a6-42a624d4a89c"
      },
      "execution_count": 1,
      "outputs": [
        {
          "output_type": "stream",
          "name": "stdout",
          "text": [
            "12\n"
          ]
        }
      ]
    },
    {
      "cell_type": "code",
      "source": [
        "# 2. Create a Python function that accepts a string and returns the reverse of that string.\n",
        "\n",
        "def reverse_string(s):\n",
        "    return s[::-1]\n",
        "\n",
        "# Example usage:\n",
        "print(reverse_string(\"hello\"))  # Output: \"olleh\"\n"
      ],
      "metadata": {
        "colab": {
          "base_uri": "https://localhost:8080/"
        },
        "id": "5qNjpvd647I0",
        "outputId": "ca8ae7fb-8a4f-4e7c-fdd2-7ad164aed729"
      },
      "execution_count": 2,
      "outputs": [
        {
          "output_type": "stream",
          "name": "stdout",
          "text": [
            "olleh\n"
          ]
        }
      ]
    },
    {
      "cell_type": "code",
      "source": [
        "# 3. Implement a Python function that takes a list of integers and returns a new list containing the squares of each number.\n",
        "\n",
        "def square_list(nums):\n",
        "    return [x**2 for x in nums]\n",
        "\n",
        "# Example usage:\n",
        "print(square_list([1, 2, 3, 4]))  # Output: [1, 4, 9, 16]\n"
      ],
      "metadata": {
        "colab": {
          "base_uri": "https://localhost:8080/"
        },
        "id": "3qrTUFVz47LY",
        "outputId": "6b2985d5-7fc4-4322-a624-c191a6333a9d"
      },
      "execution_count": 3,
      "outputs": [
        {
          "output_type": "stream",
          "name": "stdout",
          "text": [
            "[1, 4, 9, 16]\n"
          ]
        }
      ]
    },
    {
      "cell_type": "code",
      "source": [
        "# 4. Write a Python function that checks if a given number is prime or not from 1 to 200.\n",
        "\n",
        "def is_prime(n):\n",
        "    if n < 2:\n",
        "        return False\n",
        "    for i in range(2, int(n**0.5)+1):\n",
        "        if n % i == 0:\n",
        "            return False\n",
        "    return True\n",
        "\n",
        "# Example usage (Check all primes from 1 to 200)\n",
        "primes = [i for i in range(1, 201) if is_prime(i)]\n",
        "print(primes)\n"
      ],
      "metadata": {
        "colab": {
          "base_uri": "https://localhost:8080/"
        },
        "id": "1kkvUL9z47ON",
        "outputId": "55619dc1-af93-4b24-c3b8-98163aac5179"
      },
      "execution_count": 4,
      "outputs": [
        {
          "output_type": "stream",
          "name": "stdout",
          "text": [
            "[2, 3, 5, 7, 11, 13, 17, 19, 23, 29, 31, 37, 41, 43, 47, 53, 59, 61, 67, 71, 73, 79, 83, 89, 97, 101, 103, 107, 109, 113, 127, 131, 137, 139, 149, 151, 157, 163, 167, 173, 179, 181, 191, 193, 197, 199]\n"
          ]
        }
      ]
    },
    {
      "cell_type": "code",
      "source": [
        "# 5. Create an iterator class in Python that generates the Fibonacci sequence up to a specified number of terms.\n",
        "\n",
        "class Fibonacci:\n",
        "    def __init__(self, max_terms):\n",
        "        self.max_terms = max_terms\n",
        "        self.count = 0\n",
        "        self.a, self.b = 0, 1\n",
        "\n",
        "    def __iter__(self):\n",
        "        return self\n",
        "\n",
        "    def __next__(self):\n",
        "        if self.count >= self.max_terms:\n",
        "            raise StopIteration\n",
        "        if self.count == 0:\n",
        "            self.count += 1\n",
        "            return 0\n",
        "        elif self.count == 1:\n",
        "            self.count += 1\n",
        "            return 1\n",
        "        else:\n",
        "            self.a, self.b = self.b, self.a + self.b\n",
        "            self.count += 1\n",
        "            return self.b\n",
        "\n",
        "# Example usage:\n",
        "for num in Fibonacci(10):\n",
        "    print(num, end=' ')  # Output: 0 1 1 2 3 5 8 13 21 34\n"
      ],
      "metadata": {
        "colab": {
          "base_uri": "https://localhost:8080/"
        },
        "id": "Qbr9DZhi47RL",
        "outputId": "d94b7dfe-10a5-4db8-8db5-1dbea6c96a23"
      },
      "execution_count": 5,
      "outputs": [
        {
          "output_type": "stream",
          "name": "stdout",
          "text": [
            "0 1 1 2 3 5 8 13 21 34 "
          ]
        }
      ]
    },
    {
      "cell_type": "code",
      "source": [
        "# 6. Write a generator function in Python that yields the powers of 2 up to a given exponent.\n",
        "\n",
        "def powers_of_two(max_exponent):\n",
        "    for i in range(max_exponent + 1):\n",
        "        yield 2 ** i\n",
        "\n",
        "# Example usage:\n",
        "for power in powers_of_two(5):\n",
        "    print(power, end=' ')  # Output: 1 2 4 8 16 32\n"
      ],
      "metadata": {
        "colab": {
          "base_uri": "https://localhost:8080/"
        },
        "id": "OofGH_QB47Tr",
        "outputId": "23a8bbed-ef7e-4ab9-d44a-03ea983116b9"
      },
      "execution_count": 6,
      "outputs": [
        {
          "output_type": "stream",
          "name": "stdout",
          "text": [
            "1 2 4 8 16 32 "
          ]
        }
      ]
    },
    {
      "cell_type": "code",
      "source": [
        "# 7. Implement a generator function that reads a file line by line and yields each line as a string.\n",
        "\n",
        "def read_file_line_by_line(filename):\n",
        "    with open(filename, 'r') as file:\n",
        "        for line in file:\n",
        "            yield line.strip()\n",
        "\n",
        "# Example usage:\n",
        "# for line in read_file_line_by_line(\"example.txt\"):\n",
        "#     print(line)\n"
      ],
      "metadata": {
        "id": "Q8htvPNd47WO"
      },
      "execution_count": 7,
      "outputs": []
    },
    {
      "cell_type": "code",
      "source": [
        "# 8. Use a lambda function in Python to sort a list of tuples based on the second element of each tuple.\n",
        "\n",
        "data = [(1, 3), (4, 1), (2, 2), (5, 0)]\n",
        "sorted_data = sorted(data, key=lambda x: x[1])\n",
        "\n",
        "# Example output:\n",
        "print(sorted_data)  # Output: [(5, 0), (4, 1), (2, 2), (1, 3)]\n"
      ],
      "metadata": {
        "colab": {
          "base_uri": "https://localhost:8080/"
        },
        "id": "N8oFYb9447Ze",
        "outputId": "104af773-1d2d-4d47-9705-62ab774fe1bb"
      },
      "execution_count": 8,
      "outputs": [
        {
          "output_type": "stream",
          "name": "stdout",
          "text": [
            "[(5, 0), (4, 1), (2, 2), (1, 3)]\n"
          ]
        }
      ]
    },
    {
      "cell_type": "code",
      "source": [
        "# 9. Write a Python program that uses `map()` to convert a list of temperatures from Celsius to Fahrenheit.\n",
        "\n",
        "celsius = [0, 20, 37, 100]\n",
        "fahrenheit = list(map(lambda c: (c * 9/5) + 32, celsius))\n",
        "\n",
        "# Example output:\n",
        "print(fahrenheit)  # Output: [32.0, 68.0, 98.6, 212.0]\n"
      ],
      "metadata": {
        "colab": {
          "base_uri": "https://localhost:8080/"
        },
        "id": "uIx0vkvw56OJ",
        "outputId": "927c40d5-d2c8-4d3c-e910-c51ef3b6c20b"
      },
      "execution_count": 9,
      "outputs": [
        {
          "output_type": "stream",
          "name": "stdout",
          "text": [
            "[32.0, 68.0, 98.6, 212.0]\n"
          ]
        }
      ]
    },
    {
      "cell_type": "code",
      "source": [
        "# 10. Create a Python program that uses `filter()` to remove all the vowels from a given string.\n",
        "\n",
        "def remove_vowels(text):\n",
        "    vowels = 'aeiouAEIOU'\n",
        "    return ''.join(filter(lambda c: c not in vowels, text))\n",
        "\n",
        "# Example usage:\n",
        "print(remove_vowels(\"Hello World\"))  # Output: \"Hll Wrld\"\n"
      ],
      "metadata": {
        "colab": {
          "base_uri": "https://localhost:8080/"
        },
        "id": "iHXYnvVy56Vs",
        "outputId": "182c4189-f623-43c7-bfa6-ac7b4b72e593"
      },
      "execution_count": 10,
      "outputs": [
        {
          "output_type": "stream",
          "name": "stdout",
          "text": [
            "Hll Wrld\n"
          ]
        }
      ]
    },
    {
      "cell_type": "code",
      "source": [
        "'''11 .Imagine an accounting routine used in a book shop. It works on a list with sublists, which look like this:\n",
        " Write a Python program, which returns a list with 2-tuples. Each tuple consists of the order number and the\n",
        "product of the price per item and the quantity. The product should be increased by 10,- € if the value of the\n",
        "#order is smaller than 100,00 €#\n",
        " Write a Python program using lambda and map'''\n",
        "# Input order data\n",
        "orders = [\n",
        "    [34587, \"Learning Python, Mark Lutz\", 4, 40.95],\n",
        "    [98762, \"Programming Python, Mark Lutz\", 5, 56.80],\n",
        "    [77226, \"Head First Python, Paul Barry\", 3, 32.95],\n",
        "    [88112, \"Einführung in Python3, Bernd Klein\", 3, 24.99]\n",
        "]\n",
        "\n",
        "# Using map and lambda to calculate the final list\n",
        "invoice = list(map(lambda order: (\n",
        "    order[0],\n",
        "    order[2] * order[3] if order[2] * order[3] >= 100 else order[2] * order[3] + 10\n",
        "), orders))\n",
        "\n",
        "# Output result\n",
        "print(invoice)\n"
      ],
      "metadata": {
        "colab": {
          "base_uri": "https://localhost:8080/"
        },
        "id": "nB9W4JIm6Vvl",
        "outputId": "6d27bd07-2155-47e0-9ba6-f81d138a501e"
      },
      "execution_count": 12,
      "outputs": [
        {
          "output_type": "stream",
          "name": "stdout",
          "text": [
            "[(34587, 163.8), (98762, 284.0), (77226, 108.85000000000001), (88112, 84.97)]\n"
          ]
        }
      ]
    }
  ]
}