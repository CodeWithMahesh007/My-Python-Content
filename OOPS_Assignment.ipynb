{
  "nbformat": 4,
  "nbformat_minor": 0,
  "metadata": {
    "colab": {
      "provenance": []
    },
    "kernelspec": {
      "name": "python3",
      "display_name": "Python 3"
    },
    "language_info": {
      "name": "python"
    }
  },
  "cells": [
    {
      "cell_type": "markdown",
      "source": [
        "1. What are the five key concepts of Object-Oriented Programming (OOP)?\n",
        "\n",
        "=>**Classes:** A class is a blueprint for creating objects. It defines a set of attributes and methods that the created objects will have. For example, a Car class might have attributes like color and model, and methods like drive and brake1.\n",
        "\n",
        "**Objects:** An object is an instance of a class. It contains data and methods defined by its class. For instance, if myCar is an object of the Car class, it will have specific values for color and model, and can perform actions like drive2.\n",
        "\n",
        "**Encapsulation:**This concept involves bundling the data (attributes) and methods (functions) that operate on the data into a single unit, or class. It also restricts direct access to some of the object’s components, which is a means of preventing accidental interference and misuse of the data1.\n",
        "\n",
        "**Inheritance:** Inheritance allows a new class to inherit the properties and methods of an existing class. This helps in reusing the existing code and extending the functionality. For example, a SportsCar class might inherit from the Car class and add additional features like turboBoost3.\n",
        "\n",
        "**Polymorphism:** Polymorphism allows objects to be treated as instances of their parent class rather than their actual class. This means a single function can work in different ways depending on the object it is acting upon. For example, a method startEngine might behave differently for a Car object and a Motorcycle object"
      ],
      "metadata": {
        "id": "g6KQQxTErl24"
      }
    },
    {
      "cell_type": "markdown",
      "source": [
        "2. Write a Python class for a Car with attributes for make, model, and year. Include a method to display the car's information."
      ],
      "metadata": {
        "id": "gUVS7zN1tnNZ"
      }
    },
    {
      "cell_type": "code",
      "source": [
        "class Car :\n",
        "  def __init__(self,model,year):\n",
        "    self.model = model\n",
        "    self.year = year\n",
        "\n",
        "  def display(self):\n",
        "    print(\"model\",self.model,\"year\",self.year)"
      ],
      "metadata": {
        "id": "Q4rRbbJpqqnA"
      },
      "execution_count": null,
      "outputs": []
    },
    {
      "cell_type": "code",
      "source": [
        "obj = Car(\"BMW\",\"2024\")\n",
        "obj.display()"
      ],
      "metadata": {
        "colab": {
          "base_uri": "https://localhost:8080/"
        },
        "id": "jNXQhbg2qqo_",
        "outputId": "34d3aa0c-0ca1-4139-bb61-a5608812ada7"
      },
      "execution_count": null,
      "outputs": [
        {
          "output_type": "stream",
          "name": "stdout",
          "text": [
            "model BMW year 2024\n"
          ]
        }
      ]
    },
    {
      "cell_type": "markdown",
      "source": [
        "3. Explain the difference between instance methods and class methods. Provide an example of each.\n",
        "\n",
        "=>An instance method is a method that belongs to an instance of a class, meaning it can be called on an object created from that class. These methods can access and modify the instance variables of the object.\n",
        "\n",
        "Class methods are methods that are bound to the class and not the instance of the class. They can access or\n",
        "modify class state that applies across all instances of the class. Class methods are defined using the\n",
        "@classmethod decorator."
      ],
      "metadata": {
        "id": "coVW-Z9izBAQ"
      }
    },
    {
      "cell_type": "code",
      "source": [
        "class Car :\n",
        "  def __init__(self,model,year):\n",
        "    self.model = model\n",
        "    self.year = year\n",
        "\n",
        "  @classmethod\n",
        "  def display(cls,model,year):\n",
        "      return cls(model,year)"
      ],
      "metadata": {
        "id": "up7SFh1UqqrJ"
      },
      "execution_count": null,
      "outputs": []
    },
    {
      "cell_type": "code",
      "source": [
        "#what is the meaning that it is referring the class?\n",
        "#earlier to access any method/attribute>>first make instance/object of class\n",
        "#then obj.attribute\n",
        "#but if it is class method you can directly access it\n",
        "details = Car.display(\"BMW\",\"2024\")\n",
        "details.model"
      ],
      "metadata": {
        "colab": {
          "base_uri": "https://localhost:8080/",
          "height": 36
        },
        "id": "cdgHcjXEqquo",
        "outputId": "fbb88e89-c8e6-4a27-abf4-4b1963462504"
      },
      "execution_count": null,
      "outputs": [
        {
          "output_type": "execute_result",
          "data": {
            "text/plain": [
              "'BMW'"
            ],
            "application/vnd.google.colaboratory.intrinsic+json": {
              "type": "string"
            }
          },
          "metadata": {},
          "execution_count": 12
        }
      ]
    },
    {
      "cell_type": "code",
      "source": [
        "details.year"
      ],
      "metadata": {
        "colab": {
          "base_uri": "https://localhost:8080/",
          "height": 36
        },
        "id": "_3je0pJkqqw0",
        "outputId": "6b4ff5f6-24ff-4297-baee-6db9653c3788"
      },
      "execution_count": null,
      "outputs": [
        {
          "output_type": "execute_result",
          "data": {
            "text/plain": [
              "'2024'"
            ],
            "application/vnd.google.colaboratory.intrinsic+json": {
              "type": "string"
            }
          },
          "metadata": {},
          "execution_count": 13
        }
      ]
    },
    {
      "cell_type": "markdown",
      "source": [
        "4. How does Python implement method overloading? Give an example.\n",
        "\n",
        "=>Python does not support method overloading.However you can achieves similar functionality using optional parameters or polymorphism."
      ],
      "metadata": {
        "id": "3srKUjk_3yJW"
      }
    },
    {
      "cell_type": "code",
      "source": [
        "class Student:\n",
        "    def student(self):\n",
        "        print(\"Wecome to pwskills class\")\n",
        "\n",
        "    def student(self, name = \"\"):\n",
        "        print(\"Wecome to pwskills class\", name)\n",
        "\n",
        "    def student(self, name = \"\", course = \"\"):\n",
        "        print(\"Wecome to pwskills class:\", name, course)"
      ],
      "metadata": {
        "id": "VUfRY_0TqqzM"
      },
      "execution_count": null,
      "outputs": []
    },
    {
      "cell_type": "code",
      "source": [
        "stud = Student()"
      ],
      "metadata": {
        "id": "d5qHdl9Mqq1e"
      },
      "execution_count": null,
      "outputs": []
    },
    {
      "cell_type": "code",
      "source": [
        "stud.student()"
      ],
      "metadata": {
        "id": "eta1w2toqq3u",
        "colab": {
          "base_uri": "https://localhost:8080/"
        },
        "outputId": "22dcc3cc-7163-4edb-c641-bb4cb75fafdc"
      },
      "execution_count": null,
      "outputs": [
        {
          "output_type": "stream",
          "name": "stdout",
          "text": [
            "Wecome to pwskills class:  \n"
          ]
        }
      ]
    },
    {
      "cell_type": "code",
      "source": [
        "stud.student(\"mahesh\")"
      ],
      "metadata": {
        "id": "PbjC1B4bqq6B",
        "colab": {
          "base_uri": "https://localhost:8080/"
        },
        "outputId": "4e5c577c-5f67-4079-cb17-1635d7939a17"
      },
      "execution_count": null,
      "outputs": [
        {
          "output_type": "stream",
          "name": "stdout",
          "text": [
            "Wecome to pwskills class: mahesh \n"
          ]
        }
      ]
    },
    {
      "cell_type": "code",
      "source": [
        "stud.student(\"mahesh\",\"Data Science\")"
      ],
      "metadata": {
        "id": "IMpelxvKqq8o",
        "colab": {
          "base_uri": "https://localhost:8080/"
        },
        "outputId": "e55c46dc-2ca6-455e-c965-538f7285f086"
      },
      "execution_count": null,
      "outputs": [
        {
          "output_type": "stream",
          "name": "stdout",
          "text": [
            "Wecome to pwskills class: mahesh Data Science\n"
          ]
        }
      ]
    },
    {
      "cell_type": "markdown",
      "source": [
        "5. What are the three types of access modifiers in Python? How are they denoted?\n",
        "\n",
        "=>**Access Modifier in python :** A class's data members and methods can be made private or protected in\n",
        "order to achieve encapsulation. Direct access modifiers like public, private, and protected don't exist in Python,\n",
        "though. Single and double underscores can be used to accomplish this.\n",
        "Modifiers for access control restrict use of a class's variables and methods. Private, public, and protected\n",
        "are the three different access modifier types that Python offers.\n",
        "\n",
        "*Public Member :* Both inside and outside of a class, public data members are accessible.by default class's member variables are all public.\n",
        "\n",
        "*Protected Member :* Within the class and its subclasses, accessible.\n",
        "\n",
        "*Private Member :* Within the class, accessible.\n",
        "\n",
        "\n"
      ],
      "metadata": {
        "id": "yyjp0WI49XPT"
      }
    },
    {
      "cell_type": "code",
      "source": [
        "#public access specifier.\n",
        "class Car :\n",
        "  def __init__(self,model,year):\n",
        "    #public data member.\n",
        "    self.model = model\n",
        "    self.year = year\n",
        "\n",
        "    #accessing public data member.\n",
        "  def display(self):\n",
        "    print(\"model\",self.model,\"year\",self.year)"
      ],
      "metadata": {
        "id": "iXh8WhW3qq-r"
      },
      "execution_count": null,
      "outputs": []
    },
    {
      "cell_type": "code",
      "source": [
        "obj = Car(\"BMW\",\"2024\")\n",
        "obj.display()"
      ],
      "metadata": {
        "id": "LvkZrEbgqrBC",
        "colab": {
          "base_uri": "https://localhost:8080/"
        },
        "outputId": "577d5ada-a31d-44e5-9c28-70b182a5a6ec"
      },
      "execution_count": null,
      "outputs": [
        {
          "output_type": "stream",
          "name": "stdout",
          "text": [
            "model BMW year 2024\n"
          ]
        }
      ]
    },
    {
      "cell_type": "code",
      "source": [
        "#private access specifier.\n",
        "class Car :\n",
        "  def __init__(self,model,price):\n",
        "    #public data member.\n",
        "    self.model = model\n",
        "\n",
        "    #private data member.\n",
        "    self.__price = price\n",
        "\n",
        "    #accessing private data member.\n",
        "  def display(self):\n",
        "    print(\"model\",self.model,\"price\",self.__price)"
      ],
      "metadata": {
        "id": "PqSYNaFGqrFr"
      },
      "execution_count": null,
      "outputs": []
    },
    {
      "cell_type": "code",
      "source": [
        "detail = Car(\"BMW\",\"1000000\")\n",
        "detail.model"
      ],
      "metadata": {
        "id": "XnTEl85HqrHu",
        "colab": {
          "base_uri": "https://localhost:8080/",
          "height": 36
        },
        "outputId": "3a18f6dd-bc68-4f55-9cc0-8cba9c085d76"
      },
      "execution_count": null,
      "outputs": [
        {
          "output_type": "execute_result",
          "data": {
            "text/plain": [
              "'BMW'"
            ],
            "application/vnd.google.colaboratory.intrinsic+json": {
              "type": "string"
            }
          },
          "metadata": {},
          "execution_count": 39
        }
      ]
    },
    {
      "cell_type": "code",
      "source": [
        "#it will throw an error as price is private.\n",
        "detail.price"
      ],
      "metadata": {
        "id": "XGQrhyQ-qrKm",
        "colab": {
          "base_uri": "https://localhost:8080/",
          "height": 146
        },
        "outputId": "9776e8f7-e3a1-44b6-ba9d-1068a3b596ff"
      },
      "execution_count": null,
      "outputs": [
        {
          "output_type": "error",
          "ename": "AttributeError",
          "evalue": "'Car' object has no attribute 'price'",
          "traceback": [
            "\u001b[0;31m---------------------------------------------------------------------------\u001b[0m",
            "\u001b[0;31mAttributeError\u001b[0m                            Traceback (most recent call last)",
            "\u001b[0;32m<ipython-input-40-02175a53cd38>\u001b[0m in \u001b[0;36m<cell line: 1>\u001b[0;34m()\u001b[0m\n\u001b[0;32m----> 1\u001b[0;31m \u001b[0mdetail\u001b[0m\u001b[0;34m.\u001b[0m\u001b[0mprice\u001b[0m\u001b[0;34m\u001b[0m\u001b[0;34m\u001b[0m\u001b[0m\n\u001b[0m",
            "\u001b[0;31mAttributeError\u001b[0m: 'Car' object has no attribute 'price'"
          ]
        }
      ]
    },
    {
      "cell_type": "code",
      "source": [
        "detail._Car__price#say you want to access the private variable using class name"
      ],
      "metadata": {
        "id": "lkMm5oJOqrMp",
        "colab": {
          "base_uri": "https://localhost:8080/",
          "height": 36
        },
        "outputId": "de895b0e-576a-4893-c6e9-d0153c798b47"
      },
      "execution_count": null,
      "outputs": [
        {
          "output_type": "execute_result",
          "data": {
            "text/plain": [
              "'1000000'"
            ],
            "application/vnd.google.colaboratory.intrinsic+json": {
              "type": "string"
            }
          },
          "metadata": {},
          "execution_count": 42
        }
      ]
    },
    {
      "cell_type": "code",
      "source": [
        "#protected access specifier.\n",
        "class Car:\n",
        "    def __init__(self):\n",
        "        self._brand = \"Toyota\"  # Protected variable\n",
        "        self._model = \"Camry\"  # Protected variable\n",
        "\n",
        "    def _startEngine(self):  # Protected method\n",
        "        print(\"Engine started\")\n",
        "\n",
        "    def drive(self):  # Public method\n",
        "        self._startEngine()\n",
        "        print(f\"Driving {self._brand} {self._model}\")\n",
        "\n",
        "class SportsCar(Car):\n",
        "    def __init__(self):\n",
        "        super().__init__()"
      ],
      "metadata": {
        "id": "8HIetof7qrQD"
      },
      "execution_count": 80,
      "outputs": []
    },
    {
      "cell_type": "code",
      "source": [
        "myCar = SportsCar()\n",
        "myCar.drive()\n"
      ],
      "metadata": {
        "colab": {
          "base_uri": "https://localhost:8080/"
        },
        "id": "allXbEGQPing",
        "outputId": "112c8c0d-1f05-4b1d-8f44-ba3aaec81962"
      },
      "execution_count": 81,
      "outputs": [
        {
          "output_type": "stream",
          "name": "stdout",
          "text": [
            "Engine started\n",
            "Driving Toyota Camry\n"
          ]
        }
      ]
    },
    {
      "cell_type": "code",
      "source": [
        "print(myCar._brand)\n",
        "print(myCar._model)"
      ],
      "metadata": {
        "colab": {
          "base_uri": "https://localhost:8080/"
        },
        "id": "Db2zDlgKPi0p",
        "outputId": "cc0d3fe0-f3b0-4764-b33b-669a6613e821"
      },
      "execution_count": 82,
      "outputs": [
        {
          "output_type": "stream",
          "name": "stdout",
          "text": [
            "Toyota\n",
            "Camry\n"
          ]
        }
      ]
    },
    {
      "cell_type": "markdown",
      "source": [
        "6. Describe the five types of inheritance in Python. Provide a simple example of multiple inheritance.\n",
        "\n",
        "=>1. **Single Inheritance :**when a class has only one parent it is said to have a single inheritance.one class for child and one class for parent.\n",
        "\n",
        "2. **Multiple inheritance :** One child class may inherit from several parent classes when there is multiple\n",
        "inheritance\n",
        "\n",
        "3. **Multilevel Inheritance :** A class inherits from a child class or derived class under multilevel inheritance.\n",
        "Think of three classes: A, B, and C. Superclass A, child class B, and child class C are all subclasses of A. In other\n",
        "words, multilevel inheritance is the term used to describe a set of classes.\n",
        "\n",
        "4. **Hierarchical Inheritance :** A single parent class gives rise to multiple child classes under hierarchical\n",
        "inheritance. To put it another way, we can say that there is one parent class and several child classes.\n",
        "\n",
        "5. **Hybrid inheritance :** When inheritance consists of multiple types or a combination of different\n",
        "inheritance is called hybrid inheritance."
      ],
      "metadata": {
        "id": "4kkjfsrLERGy"
      }
    },
    {
      "cell_type": "code",
      "source": [
        "#program for single inheritance.\n",
        "  def tree_info(self):\n",
        "    print(\"inside the parent class\")\n",
        "\n",
        "class Leaves(Tree):\n",
        "  def leaves_info(self):\n",
        "    print(\"inside the child class\")"
      ],
      "metadata": {
        "id": "NaH5gWteqrU0"
      },
      "execution_count": null,
      "outputs": []
    },
    {
      "cell_type": "code",
      "source": [
        "t = Leaves()\n",
        "t.tree_info()"
      ],
      "metadata": {
        "id": "Xr3b0nm-qrXP",
        "colab": {
          "base_uri": "https://localhost:8080/"
        },
        "outputId": "e009bb2e-f65f-4283-a2dc-ccb1a4772512"
      },
      "execution_count": null,
      "outputs": [
        {
          "output_type": "stream",
          "name": "stdout",
          "text": [
            "inside the parent class\n"
          ]
        }
      ]
    },
    {
      "cell_type": "code",
      "source": [
        "t.leaves_info()"
      ],
      "metadata": {
        "id": "ydpT5G4LqrZg",
        "colab": {
          "base_uri": "https://localhost:8080/"
        },
        "outputId": "61f01068-9322-4b80-cbfe-4722ccc5c75b"
      },
      "execution_count": null,
      "outputs": [
        {
          "output_type": "stream",
          "name": "stdout",
          "text": [
            "inside the child class\n"
          ]
        }
      ]
    },
    {
      "cell_type": "code",
      "source": [
        "#program for multiple inheritance.\n",
        "class ParentClass1:\n",
        "    def method1(self):\n",
        "        print(\"method 1 of parent class 1\")\n",
        "\n",
        "class ParentClass2:\n",
        "    def method2(self):\n",
        "        print(\"method2 of parent class 2\")\n",
        "\n",
        "class ChildClass(ParentClass1, ParentClass2):\n",
        "    def method(self):\n",
        "        print(\"method of child class\")"
      ],
      "metadata": {
        "id": "F7tEWm3Qqrb9"
      },
      "execution_count": 50,
      "outputs": []
    },
    {
      "cell_type": "code",
      "source": [
        "c1 = ChildClass()\n",
        "c1.method()"
      ],
      "metadata": {
        "id": "tKY1xxWiqrd2",
        "colab": {
          "base_uri": "https://localhost:8080/"
        },
        "outputId": "aad599af-a1c8-439c-efa5-44bd936fe5d1"
      },
      "execution_count": 51,
      "outputs": [
        {
          "output_type": "stream",
          "name": "stdout",
          "text": [
            "method of child class\n"
          ]
        }
      ]
    },
    {
      "cell_type": "code",
      "source": [
        "c1.method1()"
      ],
      "metadata": {
        "id": "koVMd2EZqrfn",
        "colab": {
          "base_uri": "https://localhost:8080/"
        },
        "outputId": "61a5f6fb-3ccb-4ed3-ac21-f5b2daeb27dd"
      },
      "execution_count": 52,
      "outputs": [
        {
          "output_type": "stream",
          "name": "stdout",
          "text": [
            "method 1 of parent class 1\n"
          ]
        }
      ]
    },
    {
      "cell_type": "code",
      "source": [
        "c1.method2()"
      ],
      "metadata": {
        "id": "KGvMMF41qrjC",
        "colab": {
          "base_uri": "https://localhost:8080/"
        },
        "outputId": "bf0271df-fe04-4f33-c408-7d84ae2c8df9"
      },
      "execution_count": 53,
      "outputs": [
        {
          "output_type": "stream",
          "name": "stdout",
          "text": [
            "method2 of parent class 2\n"
          ]
        }
      ]
    },
    {
      "cell_type": "code",
      "source": [
        "#program for multiple inheritance.\n",
        "class GrandFather:\n",
        "    def prop_grand_father(self):\n",
        "        print(\"I am your grand father, this is my property\")\n",
        "\n",
        "class Father(GrandFather):\n",
        "    def prop_father(self):\n",
        "        print(\"I am your father, I am having my and your grandfather's property\")\n",
        "\n",
        "class Son(Father):\n",
        "    def prop_son(self):\n",
        "        print(\"I am the King. I am having all the properties\")"
      ],
      "metadata": {
        "id": "0Gh7GgWhqroy"
      },
      "execution_count": 54,
      "outputs": []
    },
    {
      "cell_type": "code",
      "source": [
        "son = Son()\n",
        "son.prop_father()"
      ],
      "metadata": {
        "colab": {
          "base_uri": "https://localhost:8080/"
        },
        "id": "SGBihJv6J-YN",
        "outputId": "ff4762df-07b0-4099-bb45-a594d3107184"
      },
      "execution_count": 55,
      "outputs": [
        {
          "output_type": "stream",
          "name": "stdout",
          "text": [
            "I am your father, I am having my and your grandfather's property\n"
          ]
        }
      ]
    },
    {
      "cell_type": "code",
      "source": [
        "son.prop_grand_father()"
      ],
      "metadata": {
        "colab": {
          "base_uri": "https://localhost:8080/"
        },
        "id": "CIWH7IBMJ-aY",
        "outputId": "56556e85-7e09-4c74-bcde-647c5d593aa2"
      },
      "execution_count": 56,
      "outputs": [
        {
          "output_type": "stream",
          "name": "stdout",
          "text": [
            "I am your grand father, this is my property\n"
          ]
        }
      ]
    },
    {
      "cell_type": "code",
      "source": [
        "fath = Father()\n",
        "fath.prop_father()"
      ],
      "metadata": {
        "colab": {
          "base_uri": "https://localhost:8080/"
        },
        "id": "YLBzGoTiJ-cr",
        "outputId": "c3f1e5b8-cebc-480c-ffd5-8f45679af8fb"
      },
      "execution_count": 57,
      "outputs": [
        {
          "output_type": "stream",
          "name": "stdout",
          "text": [
            "I am your father, I am having my and your grandfather's property\n"
          ]
        }
      ]
    },
    {
      "cell_type": "code",
      "source": [
        "fath.prop_grand_father()"
      ],
      "metadata": {
        "colab": {
          "base_uri": "https://localhost:8080/"
        },
        "id": "CnVbjuebJ-ei",
        "outputId": "34f41f68-302a-4828-e3fa-9c105941d34c"
      },
      "execution_count": 58,
      "outputs": [
        {
          "output_type": "stream",
          "name": "stdout",
          "text": [
            "I am your grand father, this is my property\n"
          ]
        }
      ]
    },
    {
      "cell_type": "code",
      "source": [
        "gf = GrandFather()\n",
        "gf.prop_grand_father()"
      ],
      "metadata": {
        "colab": {
          "base_uri": "https://localhost:8080/"
        },
        "id": "p1qAsKFBJ-gy",
        "outputId": "9ea534a2-6194-46ac-faa7-40343ee7f2de"
      },
      "execution_count": 59,
      "outputs": [
        {
          "output_type": "stream",
          "name": "stdout",
          "text": [
            "I am your grand father, this is my property\n"
          ]
        }
      ]
    },
    {
      "cell_type": "code",
      "source": [
        "#program for hierarchical inheritance.\n",
        "class Vehicle:\n",
        "    def __init__(self, brand, model, year):\n",
        "        self.brand = brand\n",
        "        self.model = model\n",
        "        self.year = year\n",
        "\n",
        "    def description(self):\n",
        "        return f\"{self.year} {self.brand} {self.model}\"\n",
        "\n",
        "class Car(Vehicle):\n",
        "    def __init__(self, brand, model, year, doors):\n",
        "        super().__init__(brand, model, year)\n",
        "        self.doors = doors\n",
        "\n",
        "    def car_description(self):\n",
        "        return f\"{self.description()} with {self.doors} doors\"\n",
        "\n",
        "class Motorcycle(Vehicle):\n",
        "    def __init__(self, brand, model, year, engine_size):\n",
        "        super().__init__(brand, model, year)\n",
        "        self.engine_size = engine_size\n",
        "\n",
        "    def motorcycle_description(self):\n",
        "        return f\"{self.description()} with {self.engine_size}cc engine\""
      ],
      "metadata": {
        "id": "yghuMFA8J-i5"
      },
      "execution_count": 84,
      "outputs": []
    },
    {
      "cell_type": "code",
      "source": [
        "car = Car(\"Toyota\", \"Corolla\", 2022, 4)\n",
        "print(car.car_description())"
      ],
      "metadata": {
        "colab": {
          "base_uri": "https://localhost:8080/"
        },
        "id": "ACRLGzMfJ-u9",
        "outputId": "e8211924-b311-461f-f729-f42c3819d536"
      },
      "execution_count": 85,
      "outputs": [
        {
          "output_type": "stream",
          "name": "stdout",
          "text": [
            "2022 Toyota Corolla with 4 doors\n"
          ]
        }
      ]
    },
    {
      "cell_type": "code",
      "source": [
        "motorcycle = Motorcycle(\"Honda\", \"CBR\", 2020, 650)\n",
        "print(motorcycle.motorcycle_description())"
      ],
      "metadata": {
        "colab": {
          "base_uri": "https://localhost:8080/"
        },
        "id": "DoTlyUAYJ-xI",
        "outputId": "3a5e17ec-a53f-424e-e6ce-cdfeb78dcadf"
      },
      "execution_count": 86,
      "outputs": [
        {
          "output_type": "stream",
          "name": "stdout",
          "text": [
            "2020 Honda CBR with 650cc engine\n"
          ]
        }
      ]
    },
    {
      "cell_type": "code",
      "source": [
        "#program for hybrid inheritance.\n",
        "class Electric:\n",
        "    def __init__(self, battery_capacity):\n",
        "        self.battery_capacity = battery_capacity\n",
        "\n",
        "    def electric_description(self):\n",
        "        return \"Electric vehicle with \" + str(self.battery_capacity) + \"kWh battery\"\n",
        "\n",
        "class Vehicle:\n",
        "    def __init__(self, brand, model, year):\n",
        "        self.brand = brand\n",
        "        self.model = model\n",
        "        self.year = year\n",
        "\n",
        "    def description(self):\n",
        "        return str(self.year) + \" \" + self.brand + \" \" + self.model\n",
        "\n",
        "class ElectricCar(Electric, Vehicle):\n",
        "    def __init__(self, brand, model, year, battery_capacity):\n",
        "        Electric.__init__(self, battery_capacity)\n",
        "        Vehicle.__init__(self, brand, model, year)\n",
        "\n",
        "    def electric_car_description(self):\n",
        "        return self.description() + \" - \" + self.electric_description()"
      ],
      "metadata": {
        "id": "mvhI1LoWJ-zP"
      },
      "execution_count": 88,
      "outputs": []
    },
    {
      "cell_type": "code",
      "source": [
        "electric_car = ElectricCar(\"Tesla\", \"Model S\", 2022, 75)\n",
        "print(electric_car.electric_car_description())"
      ],
      "metadata": {
        "colab": {
          "base_uri": "https://localhost:8080/"
        },
        "id": "qCFECgNBJ-1b",
        "outputId": "0d794bb7-42d9-407e-af78-bfd5a9d4d706"
      },
      "execution_count": 89,
      "outputs": [
        {
          "output_type": "stream",
          "name": "stdout",
          "text": [
            "2022 Tesla Model S - Electric vehicle with 75kWh battery\n"
          ]
        }
      ]
    },
    {
      "cell_type": "markdown",
      "source": [
        "7. What is the Method Resolution Order (MRO) in Python? How can you retrieve it programmatically?\n",
        "\n",
        "=>**Method Resolution** Order (MRO) in Python is the order in which classes are searched when a method is called. This is especially important in multiple inheritance scenarios. Python uses the C3 linearization algorithm to determine this order, ensuring a consistent and predictable method lookup path. You can view the MRO using the `__mro__` attribute or the `mro()` method of a class.\n"
      ],
      "metadata": {
        "id": "QsoDt3MpXuPI"
      }
    },
    {
      "cell_type": "code",
      "source": [
        "class A:\n",
        "    pass\n",
        "\n",
        "class B(A):\n",
        "    pass\n",
        "\n",
        "class C(A):\n",
        "    pass\n",
        "\n",
        "class D(B, C):\n",
        "    pass"
      ],
      "metadata": {
        "id": "5JKYYqUQJ-3w"
      },
      "execution_count": 90,
      "outputs": []
    },
    {
      "cell_type": "code",
      "source": [
        "print(D.mro())"
      ],
      "metadata": {
        "colab": {
          "base_uri": "https://localhost:8080/"
        },
        "id": "GF0Z5dSIJ-53",
        "outputId": "928a6edb-bbf7-40d4-9aed-66d30812901b"
      },
      "execution_count": 91,
      "outputs": [
        {
          "output_type": "stream",
          "name": "stdout",
          "text": [
            "[<class '__main__.D'>, <class '__main__.B'>, <class '__main__.C'>, <class '__main__.A'>, <class 'object'>]\n"
          ]
        }
      ]
    },
    {
      "cell_type": "markdown",
      "source": [
        "8. Create an abstract base class Shape with an abstract method area(). Then create two subclasses Circle and Rectangle that implement the area() method."
      ],
      "metadata": {
        "id": "7akNVB_TYGoB"
      }
    },
    {
      "cell_type": "code",
      "source": [
        "from abc import ABC, abstractmethod\n",
        "import math\n",
        "\n",
        "class Shape(ABC):\n",
        "    @abstractmethod\n",
        "    def area(self):\n",
        "        pass\n",
        "\n",
        "class Circle(Shape):\n",
        "    def __init__(self, radius):\n",
        "        self.radius = radius\n",
        "\n",
        "    def area(self):\n",
        "        return math.pi * (self.radius ** 2)\n",
        "\n",
        "class Rectangle(Shape):\n",
        "    def __init__(self, width, height):\n",
        "        self.width = width\n",
        "        self.height = height\n",
        "\n",
        "    def area(self):\n",
        "        return self.width * self.height"
      ],
      "metadata": {
        "id": "6_01yB56J-8w"
      },
      "execution_count": 92,
      "outputs": []
    },
    {
      "cell_type": "code",
      "source": [
        "circle = Circle(5)\n",
        "rectangle = Rectangle(4, 6)\n",
        "print(circle.area())\n",
        "print(rectangle.area())"
      ],
      "metadata": {
        "colab": {
          "base_uri": "https://localhost:8080/"
        },
        "id": "wcsiHyLPJ--6",
        "outputId": "cea31cc5-d10f-46d2-fc14-29e611e6362c"
      },
      "execution_count": 93,
      "outputs": [
        {
          "output_type": "stream",
          "name": "stdout",
          "text": [
            "78.53981633974483\n",
            "24\n"
          ]
        }
      ]
    },
    {
      "cell_type": "code",
      "source": [
        "print(circle.area())\n",
        "print(rectangle.area())"
      ],
      "metadata": {
        "colab": {
          "base_uri": "https://localhost:8080/"
        },
        "id": "9AOsLHhnJ_BT",
        "outputId": "ee76618d-a21c-4216-c87a-a98a42fd483e"
      },
      "execution_count": 94,
      "outputs": [
        {
          "output_type": "stream",
          "name": "stdout",
          "text": [
            "78.53981633974483\n",
            "24\n"
          ]
        }
      ]
    },
    {
      "cell_type": "markdown",
      "source": [
        "9. Demonstrate polymorphism by creating a function that can work with different shape objects to calculate and print their areas."
      ],
      "metadata": {
        "id": "6x0PqujcYiyA"
      }
    },
    {
      "cell_type": "code",
      "source": [
        "def print_area(shape):\n",
        "    print(f\"Area: {shape.area()}\")\n",
        "\n",
        "shapes = [Circle(3), Rectangle(4, 5)]\n",
        "for shape in shapes:\n",
        "    print_area(shape)\n"
      ],
      "metadata": {
        "colab": {
          "base_uri": "https://localhost:8080/"
        },
        "id": "0MeuImjLJ_DY",
        "outputId": "8b65864a-a0f4-4b99-8ab6-184a1aa711c6"
      },
      "execution_count": 95,
      "outputs": [
        {
          "output_type": "stream",
          "name": "stdout",
          "text": [
            "Area: 28.274333882308138\n",
            "Area: 20\n"
          ]
        }
      ]
    },
    {
      "cell_type": "markdown",
      "source": [
        "10. Implement encapsulation in a BankAccount class with private attributes for balance and account_number. Include methods for deposit, withdrawal, and balance inquiry."
      ],
      "metadata": {
        "id": "ruMqA-tKYvXL"
      }
    },
    {
      "cell_type": "code",
      "source": [
        "class BankAccount:\n",
        "    def __init__(self, account_number):\n",
        "      #private attributes balance and account number.\n",
        "        self.__balance = 0\n",
        "        self.__account_number = account_number\n",
        "\n",
        "    def deposit(self, amount):\n",
        "        if amount > 0:\n",
        "            self.__balance += amount\n",
        "\n",
        "    def withdraw(self, amount):\n",
        "        if 0 < amount <= self.__balance:\n",
        "            self.__balance -= amount\n",
        "\n",
        "    def get_balance(self):\n",
        "        return self.__balance\n",
        "\n",
        "class BankAccount:\n",
        "    def __init__(self, account_number):\n",
        "        self.__balance = 0\n",
        "        self.__account_number = account_number\n",
        "\n",
        "    def deposit(self, amount):\n",
        "        if amount > 0:\n",
        "            self.__balance += amount\n",
        "\n",
        "    def withdraw(self, amount):\n",
        "        if 0 < amount <= self.__balance:\n",
        "            self.__balance -= amount\n",
        "\n",
        "    def get_balance(self):\n",
        "        return self.__balance"
      ],
      "metadata": {
        "id": "ccAy7440J_Fk"
      },
      "execution_count": 96,
      "outputs": []
    },
    {
      "cell_type": "code",
      "source": [
        "account = BankAccount(\"123456\")\n",
        "account.deposit(200)"
      ],
      "metadata": {
        "id": "Js7WwZDsJ_Hx"
      },
      "execution_count": 97,
      "outputs": []
    },
    {
      "cell_type": "code",
      "source": [
        "account.withdraw(50)\n",
        "print(account.get_balance())"
      ],
      "metadata": {
        "colab": {
          "base_uri": "https://localhost:8080/"
        },
        "id": "jMB4nVrhJ_Jv",
        "outputId": "7a36b845-764f-4220-8ab3-6981f83c9ef3"
      },
      "execution_count": 98,
      "outputs": [
        {
          "output_type": "stream",
          "name": "stdout",
          "text": [
            "150\n"
          ]
        }
      ]
    },
    {
      "cell_type": "markdown",
      "source": [
        "11. Write a class that overrides the___str___ and ___add___ magic methods. What will these methods allow you to do?"
      ],
      "metadata": {
        "id": "VqZV9mvTZJ_q"
      }
    },
    {
      "cell_type": "code",
      "source": [
        "class Item:\n",
        "    def __init__(self, name, price):\n",
        "        self.name = name\n",
        "        self.price = price\n",
        "\n",
        "    def __str__(self):\n",
        "        return f\"{self.name}: ${self.price}\"\n",
        "\n",
        "    def __add__(self, other):\n",
        "        return Item(\"Combined Item\", self.price + other.price)\n",
        "\n",
        "item1=Item(\"Book\", 10)\n",
        "item2 = Item(\"Pen\", 2)\n",
        "combined_item = item1 + item2"
      ],
      "metadata": {
        "id": "mg0CMS6sJ_L-"
      },
      "execution_count": 102,
      "outputs": []
    },
    {
      "cell_type": "code",
      "source": [
        "print(item1)\n",
        "print(combined_item)"
      ],
      "metadata": {
        "colab": {
          "base_uri": "https://localhost:8080/"
        },
        "id": "m8-iomnWJ_Qp",
        "outputId": "333c334e-5c21-4b4e-c3a0-6b24a3e42db8"
      },
      "execution_count": 103,
      "outputs": [
        {
          "output_type": "stream",
          "name": "stdout",
          "text": [
            "Book: $10\n",
            "Combined Item: $12\n"
          ]
        }
      ]
    },
    {
      "cell_type": "markdown",
      "source": [
        "12. Create a decorator that measures and prints the execution time of a function."
      ],
      "metadata": {
        "id": "-FThhHmPaEQ0"
      }
    },
    {
      "cell_type": "code",
      "source": [
        "#run time of code\n",
        "import time\n",
        "def timer_decorator(func):\n",
        "  def timer():\n",
        "    start = time.time()\n",
        "    func()\n",
        "    end = time.time()\n",
        "    print(\"time executing \",end-start)\n",
        "  return timer"
      ],
      "metadata": {
        "id": "jxF4aIIrZ6rR"
      },
      "execution_count": 104,
      "outputs": []
    },
    {
      "cell_type": "code",
      "source": [
        "@timer_decorator\n",
        "def func_test():\n",
        "  print(11*11231)"
      ],
      "metadata": {
        "id": "KWrL19ywJ_TB"
      },
      "execution_count": 105,
      "outputs": []
    },
    {
      "cell_type": "code",
      "source": [
        "func_test()"
      ],
      "metadata": {
        "colab": {
          "base_uri": "https://localhost:8080/"
        },
        "id": "I81ijPTwJ_VX",
        "outputId": "827535cd-f990-4f86-a264-cf70c52c7105"
      },
      "execution_count": 106,
      "outputs": [
        {
          "output_type": "stream",
          "name": "stdout",
          "text": [
            "123541\n",
            "time executing  6.151199340820312e-05\n"
          ]
        }
      ]
    },
    {
      "cell_type": "markdown",
      "source": [
        "13. Explain the concept of the Diamond Problem in multiple inheritance. How does Python resolve it?"
      ],
      "metadata": {
        "id": "87yEmN7dapkT"
      }
    },
    {
      "cell_type": "code",
      "source": [
        "#diamond problem>> it occurs when a class inherits from 2 or more than 2 class>> will lead to ambiguity in execution of methods\n",
        "#To remove diamond problem>> python uses method resolution order(MRO) algorithm called c3 linearization\n",
        "#meaning that the class that is inherited first in the derived class, that method will be called>>in this case method 1\n",
        "\n",
        "class ParentClass1:\n",
        "    def method_par(self):\n",
        "        print(\"method 1 of parent class 1\")\n",
        "class ParentClass2:\n",
        "    def method_par(self):\n",
        "        print(\"method2 of parent class 2\")\n",
        "class ChildClass(ParentClass1, ParentClass2):\n",
        "    def method(self):\n",
        "        print(\"method of child class\")"
      ],
      "metadata": {
        "id": "TxLYsI6xJ_YC"
      },
      "execution_count": 107,
      "outputs": []
    },
    {
      "cell_type": "code",
      "source": [
        "c2 = ChildClass()\n",
        "c2.method_par()"
      ],
      "metadata": {
        "colab": {
          "base_uri": "https://localhost:8080/"
        },
        "id": "C4gr2dBPJ_aY",
        "outputId": "0efaadcc-f188-407f-9a82-1638baef4879"
      },
      "execution_count": 108,
      "outputs": [
        {
          "output_type": "stream",
          "name": "stdout",
          "text": [
            "method 1 of parent class 1\n"
          ]
        }
      ]
    },
    {
      "cell_type": "code",
      "source": [
        "#diamond problem\n",
        "class A:\n",
        "    def method(self):\n",
        "        print(\"Method of class A\")\n",
        "class B(A):\n",
        "    def method(self):\n",
        "        print(\"Method of class B\")\n",
        "class C(A):\n",
        "    def method(self):\n",
        "        print(\"Method of class C\")\n",
        "class D(B, C):\n",
        "    pass"
      ],
      "metadata": {
        "id": "e2ilhJgsJ_cz"
      },
      "execution_count": 109,
      "outputs": []
    },
    {
      "cell_type": "code",
      "source": [
        "d = D()\n",
        "d.method()"
      ],
      "metadata": {
        "colab": {
          "base_uri": "https://localhost:8080/"
        },
        "id": "c0tbJQV8J_fQ",
        "outputId": "f7ceb3bd-4ac5-4b84-f120-53a3a6c16be5"
      },
      "execution_count": 110,
      "outputs": [
        {
          "output_type": "stream",
          "name": "stdout",
          "text": [
            "Method of class B\n"
          ]
        }
      ]
    },
    {
      "cell_type": "markdown",
      "source": [
        "14. Write a class method that keeps track of the number of instances created from a class."
      ],
      "metadata": {
        "id": "F9o2l6ZwbcvR"
      }
    },
    {
      "cell_type": "code",
      "source": [
        "class InstanceCounter:\n",
        "    count = 0\n",
        "\n",
        "    def __init__(self):\n",
        "        InstanceCounter.count += 1\n",
        "\n",
        "    @classmethod\n",
        "    def get_count(cls):\n",
        "        return cls.count"
      ],
      "metadata": {
        "id": "cCt_NaZMJ_hb"
      },
      "execution_count": 111,
      "outputs": []
    },
    {
      "cell_type": "code",
      "source": [
        "a = InstanceCounter()\n",
        "b = InstanceCounter()"
      ],
      "metadata": {
        "id": "WG7Cd0EaJ_j3"
      },
      "execution_count": 112,
      "outputs": []
    },
    {
      "cell_type": "code",
      "source": [
        "print(InstanceCounter.get_count())"
      ],
      "metadata": {
        "colab": {
          "base_uri": "https://localhost:8080/"
        },
        "id": "oa_vOvwuJ_mF",
        "outputId": "4e9078e3-17b9-49ec-8fa5-b9bb2852d126"
      },
      "execution_count": 113,
      "outputs": [
        {
          "output_type": "stream",
          "name": "stdout",
          "text": [
            "2\n"
          ]
        }
      ]
    },
    {
      "cell_type": "markdown",
      "source": [
        "15. Implement a static method in a class that checks if a given year is a leap year."
      ],
      "metadata": {
        "id": "I9WIyes_b4Gh"
      }
    },
    {
      "cell_type": "code",
      "source": [
        "class YearUtils:\n",
        "    @staticmethod\n",
        "    def is_leap_year(year):\n",
        "        return year % 4 == 0 and (year % 100 != 0 or year % 400 == 0)"
      ],
      "metadata": {
        "id": "rf-tef_gJ_pr"
      },
      "execution_count": 114,
      "outputs": []
    },
    {
      "cell_type": "code",
      "source": [
        "print(YearUtils.is_leap_year(2024))  # Output: True\n",
        "print(YearUtils.is_leap_year(2023))"
      ],
      "metadata": {
        "colab": {
          "base_uri": "https://localhost:8080/"
        },
        "id": "cilibhKCJ_x0",
        "outputId": "da077c90-4869-43b0-a68c-3f87cceffb5c"
      },
      "execution_count": 115,
      "outputs": [
        {
          "output_type": "stream",
          "name": "stdout",
          "text": [
            "True\n",
            "False\n"
          ]
        }
      ]
    }
  ]
}