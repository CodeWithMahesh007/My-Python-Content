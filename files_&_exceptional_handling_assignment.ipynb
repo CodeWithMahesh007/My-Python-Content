{
  "nbformat": 4,
  "nbformat_minor": 0,
  "metadata": {
    "colab": {
      "provenance": []
    },
    "kernelspec": {
      "name": "python3",
      "display_name": "Python 3"
    },
    "language_info": {
      "name": "python"
    }
  },
  "cells": [
    {
      "cell_type": "markdown",
      "source": [
        "1. Discuss the scenarios where multithreading is preferable to multiprocessing and scenarios where\n",
        "multiprocessing is a better choice.\n",
        " 2. Describe what a process pool is and how it helps in managing multiple processes efficiently.\n",
        " 3. Explain what multiprocessing is and why it is used in Python programs.\n",
        " 4. Write a Python program using multithreading where one thread adds numbers to a list, and another\n",
        "thread removes numbers from the list. Implement a mechanism to avoid race conditions using\n",
        "threading.Lock.\n",
        " 5. Describe the methods and tools available in Python for safely sharing data between threads and\n",
        "processes.\n",
        " 6. Discuss why it’s crucial to handle exceptions in concurrent programs and the techniques available for\n",
        "doing so.\n",
        " 7. Create a program that uses a thread pool to calculate the factorial of numbers from 1 to 10 concurrently.\n",
        "Use concurrent.futures.ThreadPoolExecutor to manage the threads.\n",
        " 8. Create a Python program that uses multiprocessing.Pool to compute the square of numbers from 1 to 10 in\n",
        "parallel. Measure the time taken to perform this computation using a pool of different sizes (e.g., 2, 4, 8\n",
        "processes)"
      ],
      "metadata": {
        "id": "QQpf1QdbA3_d"
      }
    },
    {
      "cell_type": "markdown",
      "source": [
        "1.Discuss the scenarios where multithreading is preferable to multiprocessing and scenarios where multiprocessing is a better choice.\n",
        "\n",
        "-->Sure, let's dive into the world of parallel computing!\n",
        "\n",
        "### Multithreading\n",
        "Multithreading is preferable in scenarios where:\n",
        "1. **I/O Bound Tasks**: Tasks that spend a lot of time waiting for I/O operations (like reading from disk or network) benefit from multithreading. Threads can switch while waiting, making efficient use of CPU time.\n",
        "2. **Shared Memory**: When tasks need to share a lot of data, multithreading is advantageous because threads share the same memory space, making data sharing easier and faster.\n",
        "3. **Lightweight Tasks**: If the tasks are lightweight and the overhead of creating and managing processes is too high, multithreading is a better choice.\n",
        "4. **Real-Time Systems**: In systems where tasks need to be completed in a timely manner, multithreading can provide better responsiveness.\n",
        "\n",
        "### Multiprocessing\n",
        "Multiprocessing is preferable in scenarios where:\n",
        "1. **CPU Bound Tasks**: Tasks that require heavy computation and can fully utilize the CPU benefit from multiprocessing. Each process runs on a separate CPU core, leading to better performance.\n",
        "2. **Isolation**: When tasks need to be isolated from each other (e.g., for security or stability reasons), multiprocessing is better because each process has its own memory space.\n",
        "3. **Scalability**: In systems that need to scale across multiple CPUs or machines, multiprocessing is more suitable.\n",
        "4. **Fault Tolerance**: If one process crashes, it doesn't affect the others. This makes multiprocessing more robust in handling errors.\n",
        "\n",
        "In summary, multithreading is great for I/O-bound and lightweight tasks that need to share data, while multiprocessing shines in CPU-bound tasks that require isolation and scalability. Both have their strengths, and the choice depends on the specific requirements of the task at hand."
      ],
      "metadata": {
        "id": "N9hIIIlxBBAP"
      }
    },
    {
      "cell_type": "markdown",
      "source": [
        "2.Describe what a process pool is and how it helps in managing multiple processes efficiently.\n",
        "\n",
        "-->A process pool is a collection of worker processes that are managed by a pool manager to execute tasks concurrently. It is a powerful tool for parallel processing, especially when dealing with CPU-bound tasks. Here's how it helps in managing multiple processes efficiently:\n",
        "\n",
        "### Key Benefits of a Process Pool\n",
        "\n",
        "1. **Resource Management**: The pool manager controls the number of worker processes, ensuring that system resources are used efficiently without overloading the CPU or memory.\n",
        "2. **Task Distribution**: Tasks are distributed among the worker processes in the pool, allowing for parallel execution. This reduces the overall execution time compared to sequential processing.\n",
        "3. **Load Balancing**: The pool manager can dynamically allocate tasks to worker processes based on their current load, ensuring balanced workload distribution.\n",
        "4. **Simplified Code**: Using a process pool abstracts the complexity of process management. Developers can focus on the tasks themselves rather than the intricacies of process creation and synchronization.\n",
        "5. **Fault Tolerance**: If a worker process fails, the pool manager can detect the failure and restart the process, ensuring that the system remains robust and reliable.\n",
        "\n",
        "### How It Works\n",
        "\n",
        "1. **Initialization**: The process pool is initialized with a specified number of worker processes.\n",
        "2. **Task Submission**: Tasks are submitted to the pool manager, which queues them for execution.\n",
        "3. **Task Execution**: The pool manager assigns tasks to available worker processes. Each process executes its assigned task independently.\n",
        "4. **Result Collection**: Once a task is completed, the result is collected and returned to the pool manager, which can then provide it to the main program.\n"
      ],
      "metadata": {
        "id": "ug_hR0rzCyzm"
      }
    },
    {
      "cell_type": "markdown",
      "source": [
        "3.Explain what multiprocessing is and why it is used in Python programs.\n",
        "\n",
        "-->Multiprocessing:\n",
        "Multiprocessing is a programming and execution model that involves the concurrent execution of multiple\n",
        "processes. A process is an independent program that runs in its own memory space and has its own resources.\n",
        "In multiprocessing, multiple processes run concurrently, each with its own set of instructions and data. These\n",
        "processes can communicate with each other through inter-process communication (IPC) mechanisms.\n",
        "\n",
        "Why Use Multiprocessing in Python?\n",
        "\n",
        "Independence:\n",
        "In multiprocessing, each process has its own memory space and resources. Processes are independent of each\n",
        "other, and communication between them requires explicit IPC mechanisms.\n",
        "In multithreading, multiple threads share the same memory space within a single process. Threads are lighter\n",
        "weight than processes and share resources more easily.\n",
        "\n",
        "Communication:\n",
        "Multiprocessing relies on IPC for communication between processes. This can involve message passing, shared\n",
        "memory, or other communication mechanisms.\n",
        "Multithreading involves sharing data more directly since threads within the same process share the same\n",
        "memory space.\n",
        "\n",
        "Fault Isolation:\n",
        "Processes in multiprocessing are more isolated, providing better fault isolation. If one process crashes, it does\n",
        "not necessarily affect others.\n",
        "Threads in multithreading share the same memory space, making them more susceptible to issues such as\n",
        "data corruption or unintended interactions.\n",
        "\n",
        "Resource Utilization:\n",
        "Multiprocessing can take advantage of multiple CPU cores, as each process can run on a separate core.\n",
        "Multithreading is suitable for tasks that can be parallelized within a single process but may not fully utilize\n",
        "multiple cores.\n",
        "\n",
        "Importance of Multiprocessing in Modern Computing:\n",
        "Parallelism and Performance:\n",
        "Multiprocessing allows for true parallelism, enabling multiple processes to run simultaneously on multiple CPU\n",
        "cores. This leads to improved performance and faster execution of tasks.\n"
      ],
      "metadata": {
        "id": "FILuWtR1DN6k"
      }
    },
    {
      "cell_type": "markdown",
      "source": [
        "4.Write a Python program using multithreading where one thread adds numbers to a list, and another thread removes numbers from the list. Implement a mechanism to avoid race conditions using threading.Lock."
      ],
      "metadata": {
        "id": "x2Rf9mrFEyWi"
      }
    },
    {
      "cell_type": "code",
      "source": [
        "import threading\n",
        "import time\n",
        "numbers = []\n",
        "lock = threading.Lock()\n",
        "def add_numbers():\n",
        "    for i in range(10):\n",
        "        time.sleep(1)\n",
        "        with lock:\n",
        "            numbers.append(i)\n",
        "            print(f\"Added {i}, List: {numbers}\")\n",
        "def remove_numbers():\n",
        "    for i in range(10):\n",
        "        time.sleep(1.5)\n",
        "        with lock:\n",
        "            if numbers:\n",
        "                removed = numbers.pop(0)\n",
        "                print(f\"Removed {removed}, List: {numbers}\")\n",
        "thread1 = threading.Thread(target=add_numbers)\n",
        "thread2 = threading.Thread(target=remove_numbers)\n",
        "thread1.start()\n",
        "thread2.start()\n",
        "thread1.join()\n",
        "thread2.join()\n",
        "print(\"Final List:\", numbers)"
      ],
      "metadata": {
        "colab": {
          "base_uri": "https://localhost:8080/"
        },
        "id": "T6jBKjn4FDPy",
        "outputId": "83c06893-fe2d-4b1c-92a0-557bec9afe3b"
      },
      "execution_count": 1,
      "outputs": [
        {
          "output_type": "stream",
          "name": "stdout",
          "text": [
            "Added 0, List: [0]\n",
            "Removed 0, List: []\n",
            "Added 1, List: [1]\n",
            "Added 2, List: [1, 2]\n",
            "Removed 1, List: [2]\n",
            "Added 3, List: [2, 3]\n",
            "Removed 2, List: [3]\n",
            "Added 4, List: [3, 4]\n",
            "Removed 3, List: [4]\n",
            "Added 5, List: [4, 5]\n",
            "Added 6, List: [4, 5, 6]\n",
            "Removed 4, List: [5, 6]\n",
            "Added 7, List: [5, 6, 7]\n",
            "Removed 5, List: [6, 7]\n",
            "Added 8, List: [6, 7, 8]\n",
            "Added 9, List: [6, 7, 8, 9]\n",
            "Removed 6, List: [7, 8, 9]\n",
            "Removed 7, List: [8, 9]\n",
            "Removed 8, List: [9]\n",
            "Removed 9, List: []\n",
            "Final List: []\n"
          ]
        }
      ]
    },
    {
      "cell_type": "markdown",
      "source": [
        "5.Discuss why it’s crucial to handle exceptions in concurrent programs and the techniques available for doing so.\n",
        "\n",
        "-->Handling exceptions in concurrent programs is crucial for several reasons:\n",
        "\n",
        "Why It's Crucial\n",
        "Preventing Crashes: Unhandled exceptions can cause threads or processes to terminate unexpectedly, leading to partial or complete program failure.\n",
        "\n",
        "Data Integrity: Exceptions can leave shared resources in an inconsistent state, leading to data corruption or unexpected behavior.\n",
        "\n",
        "Resource Management: Proper exception handling ensures that resources like file handles, network connections, and memory are released properly, preventing resource leaks.\n",
        "\n",
        "Debugging and Maintenance: Handling exceptions provides useful error messages and logs, making it easier to diagnose and fix issues.\n",
        "\n",
        "User Experience: Properly handled exceptions can provide meaningful feedback to users, improving the overall user experience."
      ],
      "metadata": {
        "id": "DvVarI__FxRG"
      }
    },
    {
      "cell_type": "code",
      "source": [
        "try:\n",
        "    # Code that may raise an exception\n",
        "except Exception as e:\n",
        "    # Handle the exception\n",
        "    print(f\"An error occurred: {e}\")\n"
      ],
      "metadata": {
        "id": "m1lQhszJJL-9"
      },
      "execution_count": null,
      "outputs": []
    },
    {
      "cell_type": "code",
      "source": [
        "import threading\n",
        "\n",
        "def thread_function():\n",
        "    try:\n",
        "        # Code that may raise an exception\n",
        "    except Exception as e:\n",
        "        print(f\"Exception in thread: {e}\")\n",
        "\n",
        "thread = threading.Thread(target=thread_function)\n",
        "thread.start()\n",
        "thread.join()\n"
      ],
      "metadata": {
        "id": "9UvvKxF8JMCZ"
      },
      "execution_count": null,
      "outputs": []
    },
    {
      "cell_type": "code",
      "source": [
        "with open('file.txt', 'r') as file:\n",
        "    # Code that may raise an exception\n"
      ],
      "metadata": {
        "id": "tQfvUFzQIVNJ"
      },
      "execution_count": null,
      "outputs": []
    },
    {
      "cell_type": "markdown",
      "source": [
        "6.Create a program that uses a thread pool to calculate the factorial of numbers from 1 to 10 concurrently. Use concurrent.futures.ThreadPoolExecutor to manage the threads."
      ],
      "metadata": {
        "id": "9NLOLgktJb1J"
      }
    },
    {
      "cell_type": "code",
      "source": [
        "import concurrent.futures\n",
        "import math\n",
        "def factorial(n):\n",
        "    return math.factorial(n)\n",
        "if __name__ == \"__main__\":\n",
        "    numbers = range(1, 11)\n",
        "    with concurrent.futures.ThreadPoolExecutor() as executor:\n",
        "        results = list(executor.map(factorial, numbers))\n",
        "    for number, result in zip(numbers, results):\n",
        "        print(f\"Factorial of {number} is {result}\")"
      ],
      "metadata": {
        "colab": {
          "base_uri": "https://localhost:8080/"
        },
        "id": "DU19648XJibd",
        "outputId": "123e11dd-05bd-45bb-c7f1-38da28a53c18"
      },
      "execution_count": 5,
      "outputs": [
        {
          "output_type": "stream",
          "name": "stdout",
          "text": [
            "Factorial of 1 is 1\n",
            "Factorial of 2 is 2\n",
            "Factorial of 3 is 6\n",
            "Factorial of 4 is 24\n",
            "Factorial of 5 is 120\n",
            "Factorial of 6 is 720\n",
            "Factorial of 7 is 5040\n",
            "Factorial of 8 is 40320\n",
            "Factorial of 9 is 362880\n",
            "Factorial of 10 is 3628800\n"
          ]
        }
      ]
    },
    {
      "cell_type": "markdown",
      "source": [
        "7.Create a Python program that uses multiprocessing.Pool to compute the square of numbers from 1 to 10 in parallel. Measure the time taken to perform this computation using a pool of different sizes (e.g., 2, 4, 8 processes)"
      ],
      "metadata": {
        "id": "gp8Rq-dfJtl3"
      }
    },
    {
      "cell_type": "code",
      "source": [
        "import multiprocessing\n",
        "import time\n",
        "def square(n):\n",
        "    return n * n\n",
        "def compute_squares(pool_size):\n",
        "    numbers = range(1, 11)\n",
        "    start_time = time.time()\n",
        "    with multiprocessing.Pool(pool_size) as pool:\n",
        "        results = pool.map(square, numbers)\n",
        "    end_time = time.time()\n",
        "    duration = end_time - start_time\n",
        "    return results, duration\n",
        "if __name__ == \"__main__\":\n",
        "    pool_sizes = [2, 4, 8]\n",
        "    for size in pool_sizes:\n",
        "        results, duration = compute_squares(size)\n",
        "        print(f\"Pool size: {size}, Results: {results}, Time taken: {duration:.4f} seconds\")\n"
      ],
      "metadata": {
        "colab": {
          "base_uri": "https://localhost:8080/"
        },
        "id": "r6feVfKOJ0S5",
        "outputId": "425be3d5-f8a4-412c-fc73-fd434cc06c3e"
      },
      "execution_count": 6,
      "outputs": [
        {
          "output_type": "stream",
          "name": "stdout",
          "text": [
            "Pool size: 2, Results: [1, 4, 9, 16, 25, 36, 49, 64, 81, 100], Time taken: 0.0487 seconds\n",
            "Pool size: 4, Results: [1, 4, 9, 16, 25, 36, 49, 64, 81, 100], Time taken: 0.0493 seconds\n",
            "Pool size: 8, Results: [1, 4, 9, 16, 25, 36, 49, 64, 81, 100], Time taken: 0.0960 seconds\n"
          ]
        }
      ]
    }
  ]
}