{
  "nbformat": 4,
  "nbformat_minor": 0,
  "metadata": {
    "colab": {
      "provenance": []
    },
    "kernelspec": {
      "name": "python3",
      "display_name": "Python 3"
    },
    "language_info": {
      "name": "python"
    }
  },
  "cells": [
    {
      "cell_type": "markdown",
      "source": [
        "1.Explain the key features of Python that make it a popular choice for programming?\n",
        "\n",
        "Python is a simple and easy to understand which feels like reading simple English.this pseudo code nature is easy to understand by beginners.\n",
        "\n",
        "FEATURES OF PYTHON\n",
        "*   Easy to understand=Less devlopement time\n",
        "*   Free and open source\n",
        "\n",
        "\n",
        "*   High Level Language\n",
        "*   Portable:works on Linux/Windows/Mac\n",
        "\n",
        "\n",
        "*   Fun to work with\n",
        "\n",
        " This features of Python that make it a popular choice for programming.\n",
        "\n",
        "\n",
        "\n",
        "\n",
        "\n",
        "\n"
      ],
      "metadata": {
        "id": "BE9V4PvI5-xa"
      }
    },
    {
      "cell_type": "markdown",
      "source": [
        "2.Describe the role of predefined keywords in Python and provide examples of how they are used in a\n",
        "programming?"
      ],
      "metadata": {
        "id": "rc1gL_wVCpt-"
      }
    },
    {
      "cell_type": "code",
      "source": [
        "help('keywords')\n",
        "'''KEYWORDS are reserves word that have a specific meaning.\n",
        "A programmer can not use a keyword anywhere everywhere.\n",
        "there are applicable restriction for the usage of keywords'''"
      ],
      "metadata": {
        "colab": {
          "base_uri": "https://localhost:8080/"
        },
        "id": "NSTQZQjEC5zJ",
        "outputId": "514b3fe2-a9b7-4e0a-8e1c-d6f3fb8d31e8"
      },
      "execution_count": null,
      "outputs": [
        {
          "output_type": "stream",
          "name": "stdout",
          "text": [
            "\n",
            "Here is a list of the Python keywords.  Enter any keyword to get more help.\n",
            "\n",
            "False               class               from                or\n",
            "None                continue            global              pass\n",
            "True                def                 if                  raise\n",
            "and                 del                 import              return\n",
            "as                  elif                in                  try\n",
            "assert              else                is                  while\n",
            "async               except              lambda              with\n",
            "await               finally             nonlocal            yield\n",
            "break               for                 not                 \n",
            "\n"
          ]
        },
        {
          "output_type": "execute_result",
          "data": {
            "text/plain": [
              "int"
            ]
          },
          "metadata": {},
          "execution_count": 5
        }
      ]
    },
    {
      "cell_type": "code",
      "source": [
        "weather=input(\"Type Today's weather condition,rainy,cloudy,sunny:\")\n",
        "if weather=='rainy':\n",
        " print(\"I will take a leave.\")\n",
        "elif weather=='cloudy':\n",
        " print('I will think.')\n",
        "else:\n",
        " print('I will go to the college')"
      ],
      "metadata": {
        "colab": {
          "base_uri": "https://localhost:8080/"
        },
        "id": "seOJhMmFHHgs",
        "outputId": "6c439ce0-eb2c-422d-d66a-7e41b7aa4bbf"
      },
      "execution_count": null,
      "outputs": [
        {
          "output_type": "stream",
          "name": "stdout",
          "text": [
            "Type Today's weather condition,rainy,cloudy,sunny:cloudy\n",
            "I will think.\n"
          ]
        }
      ]
    },
    {
      "cell_type": "code",
      "source": [
        "a=1\n",
        "b=2\n",
        "print(a>b)"
      ],
      "metadata": {
        "colab": {
          "base_uri": "https://localhost:8080/"
        },
        "id": "KWY7NNvvMSVV",
        "outputId": "aa1e7cbd-fbaf-4e6c-c3bd-b0e1ccfcb055"
      },
      "execution_count": null,
      "outputs": [
        {
          "output_type": "stream",
          "name": "stdout",
          "text": [
            "False\n"
          ]
        }
      ]
    },
    {
      "cell_type": "markdown",
      "source": [
        "3.Compare and contrast mutable and immutable objects in Python with examples."
      ],
      "metadata": {
        "id": "MTVhGUBLM_FF"
      }
    },
    {
      "cell_type": "code",
      "source": [
        "#muttable ojects=This objects can be changed by adding,removing or modifying elements.\n",
        "#ex:list dictionaries,sets.\n",
        "list_students=[\"Mahesh\",\"Nikhil\",\"Vedant\"]\n",
        "list_students[2] =\"Abhishek\"\n",
        "list_students\n",
        "#list is a type of mutuable object supports assignment.\n"
      ],
      "metadata": {
        "colab": {
          "base_uri": "https://localhost:8080/"
        },
        "id": "w8RALL8ONWml",
        "outputId": "543153f0-1b30-432f-96f4-c492b034c036"
      },
      "execution_count": null,
      "outputs": [
        {
          "output_type": "execute_result",
          "data": {
            "text/plain": [
              "['Mahesh', 'Nikhil', 'Abhishek']"
            ]
          },
          "metadata": {},
          "execution_count": 52
        }
      ]
    },
    {
      "cell_type": "code",
      "source": [
        "#immutable objects=This objects unchanged by adding,removing or modifying elements.\n",
        "#ex:int,float,string.\n",
        "string=\"FAANG\"\n",
        "string[0]=\"M\"\n",
        "# string object does not support item assignment."
      ],
      "metadata": {
        "id": "CNilMlITSO_E",
        "colab": {
          "base_uri": "https://localhost:8080/",
          "height": 182
        },
        "outputId": "f5967d9b-9f7b-44a5-e404-4f041f00cef2"
      },
      "execution_count": null,
      "outputs": [
        {
          "output_type": "error",
          "ename": "TypeError",
          "evalue": "'str' object does not support item assignment",
          "traceback": [
            "\u001b[0;31m---------------------------------------------------------------------------\u001b[0m",
            "\u001b[0;31mTypeError\u001b[0m                                 Traceback (most recent call last)",
            "\u001b[0;32m<ipython-input-53-41194793b9e8>\u001b[0m in \u001b[0;36m<cell line: 4>\u001b[0;34m()\u001b[0m\n\u001b[1;32m      2\u001b[0m \u001b[0;31m#ex:int,float,string.\u001b[0m\u001b[0;34m\u001b[0m\u001b[0;34m\u001b[0m\u001b[0m\n\u001b[1;32m      3\u001b[0m \u001b[0mstring\u001b[0m\u001b[0;34m=\u001b[0m\u001b[0;34m\"FAANG\"\u001b[0m\u001b[0;34m\u001b[0m\u001b[0;34m\u001b[0m\u001b[0m\n\u001b[0;32m----> 4\u001b[0;31m \u001b[0mstring\u001b[0m\u001b[0;34m[\u001b[0m\u001b[0;36m0\u001b[0m\u001b[0;34m]\u001b[0m\u001b[0;34m=\u001b[0m\u001b[0;34m\"M\"\u001b[0m\u001b[0;34m\u001b[0m\u001b[0;34m\u001b[0m\u001b[0m\n\u001b[0m",
            "\u001b[0;31mTypeError\u001b[0m: 'str' object does not support item assignment"
          ]
        }
      ]
    },
    {
      "cell_type": "markdown",
      "source": [
        "4. Discuss the different types of operators in Python and provide examples of how they are used.\n",
        "\n",
        ":-Operators are special type of keywords or symbols that are use to perform operation.\n",
        "Different types of operators in Python are given below.\n",
        "\n",
        "1.   Arithmatic Operator\n",
        "2.   Comparision Operator\n",
        "3.   Logical Operator\n",
        "4.   Bitwiswe Operator\n",
        "5.   Assignment Operator\n",
        "6.  Membership Operator\n",
        "7.   Identity Operator\n",
        "\n",
        "\n",
        "\n",
        "\n",
        "\n"
      ],
      "metadata": {
        "id": "D6dG-Lc6Vhyi"
      }
    },
    {
      "cell_type": "code",
      "source": [
        " #1.Arithmatic Operator\n",
        " #you can perform all arithmetic operations like:\n",
        " #+,-,*,/,//,**\n",
        " a=1\n",
        " b=2\n",
        " a+b"
      ],
      "metadata": {
        "colab": {
          "base_uri": "https://localhost:8080/"
        },
        "id": "bNVOl17mVxc_",
        "outputId": "ef616491-9551-4940-928b-63559f49d886"
      },
      "execution_count": null,
      "outputs": [
        {
          "output_type": "execute_result",
          "data": {
            "text/plain": [
              "2"
            ]
          },
          "metadata": {},
          "execution_count": 63
        }
      ]
    },
    {
      "cell_type": "code",
      "source": [
        "#2.Comparision Operator\n",
        "a=4\n",
        "b=7\n",
        "if a==b:\n",
        "  print(\"a and b are equal\")\n",
        "elif a<b:\n",
        "  print(\"a is less than b\")\n",
        "else:\n",
        "  print(\"a is greater than b\")"
      ],
      "metadata": {
        "colab": {
          "base_uri": "https://localhost:8080/"
        },
        "id": "T2jPV5vbaRbQ",
        "outputId": "ab4fa4a3-30ce-4903-d191-081d8d66c387"
      },
      "execution_count": null,
      "outputs": [
        {
          "output_type": "stream",
          "name": "stdout",
          "text": [
            "a is greater than b\n"
          ]
        }
      ]
    },
    {
      "cell_type": "code",
      "source": [
        "#3.Logical Operator\n",
        "a,b,c=1,2,1\n",
        "print(a==1 and a>b)\n",
        "print(a==1 or a>b)"
      ],
      "metadata": {
        "colab": {
          "base_uri": "https://localhost:8080/"
        },
        "id": "sh_CsmszelSp",
        "outputId": "c3c6f1b7-e2da-411f-a73f-ace17384bb75"
      },
      "execution_count": null,
      "outputs": [
        {
          "output_type": "stream",
          "name": "stdout",
          "text": [
            "False\n",
            "True\n"
          ]
        }
      ]
    },
    {
      "cell_type": "code",
      "source": [
        "#4.Bitwiswe Operator\n",
        "bin(10)\n"
      ],
      "metadata": {
        "colab": {
          "base_uri": "https://localhost:8080/",
          "height": 36
        },
        "id": "JEiDHJWumALB",
        "outputId": "7b5da0bf-69a0-4ffa-8e95-b8cfda0c3c1b"
      },
      "execution_count": null,
      "outputs": [
        {
          "output_type": "execute_result",
          "data": {
            "text/plain": [
              "'0b1010'"
            ],
            "application/vnd.google.colaboratory.intrinsic+json": {
              "type": "string"
            }
          },
          "metadata": {},
          "execution_count": 90
        }
      ]
    },
    {
      "cell_type": "code",
      "source": [
        "18 & 3"
      ],
      "metadata": {
        "colab": {
          "base_uri": "https://localhost:8080/"
        },
        "id": "47njKmU0r3ox",
        "outputId": "15593e51-92cb-44f8-812f-32ceee9c1008"
      },
      "execution_count": null,
      "outputs": [
        {
          "output_type": "execute_result",
          "data": {
            "text/plain": [
              "2"
            ]
          },
          "metadata": {},
          "execution_count": 102
        }
      ]
    },
    {
      "cell_type": "code",
      "source": [
        "bin(18)"
      ],
      "metadata": {
        "colab": {
          "base_uri": "https://localhost:8080/",
          "height": 36
        },
        "id": "feO8izxOsLh5",
        "outputId": "6f26cca3-82e4-4c30-8384-862aea7dd420"
      },
      "execution_count": null,
      "outputs": [
        {
          "output_type": "execute_result",
          "data": {
            "text/plain": [
              "'0b10010'"
            ],
            "application/vnd.google.colaboratory.intrinsic+json": {
              "type": "string"
            }
          },
          "metadata": {},
          "execution_count": 95
        }
      ]
    },
    {
      "cell_type": "code",
      "source": [
        "bin(3)"
      ],
      "metadata": {
        "colab": {
          "base_uri": "https://localhost:8080/",
          "height": 36
        },
        "id": "Vio3xIq7sOA1",
        "outputId": "afb8eb61-1275-4e71-fab6-3d0fdd628909"
      },
      "execution_count": null,
      "outputs": [
        {
          "output_type": "execute_result",
          "data": {
            "text/plain": [
              "'0b11'"
            ],
            "application/vnd.google.colaboratory.intrinsic+json": {
              "type": "string"
            }
          },
          "metadata": {},
          "execution_count": 96
        }
      ]
    },
    {
      "cell_type": "code",
      "source": [
        "bin(2)"
      ],
      "metadata": {
        "colab": {
          "base_uri": "https://localhost:8080/",
          "height": 36
        },
        "id": "lUrS6a5jsQl3",
        "outputId": "1c0904fa-767f-419e-9e02-2615d51538dc"
      },
      "execution_count": null,
      "outputs": [
        {
          "output_type": "execute_result",
          "data": {
            "text/plain": [
              "'0b10'"
            ],
            "application/vnd.google.colaboratory.intrinsic+json": {
              "type": "string"
            }
          },
          "metadata": {},
          "execution_count": 97
        }
      ]
    },
    {
      "cell_type": "code",
      "source": [
        "18 | 3"
      ],
      "metadata": {
        "colab": {
          "base_uri": "https://localhost:8080/"
        },
        "id": "WiMOkb9esZb0",
        "outputId": "a6ae273a-757c-4398-a615-b45749d9de10"
      },
      "execution_count": null,
      "outputs": [
        {
          "output_type": "execute_result",
          "data": {
            "text/plain": [
              "19"
            ]
          },
          "metadata": {},
          "execution_count": 99
        }
      ]
    },
    {
      "cell_type": "code",
      "source": [
        "bin(19)"
      ],
      "metadata": {
        "colab": {
          "base_uri": "https://localhost:8080/",
          "height": 36
        },
        "id": "x2NXpRd-s1hh",
        "outputId": "6cb4b8aa-d0fa-4498-8136-f3767b54086c"
      },
      "execution_count": null,
      "outputs": [
        {
          "output_type": "execute_result",
          "data": {
            "text/plain": [
              "'0b10011'"
            ],
            "application/vnd.google.colaboratory.intrinsic+json": {
              "type": "string"
            }
          },
          "metadata": {},
          "execution_count": 100
        }
      ]
    },
    {
      "cell_type": "code",
      "source": [
        "~100"
      ],
      "metadata": {
        "colab": {
          "base_uri": "https://localhost:8080/"
        },
        "id": "15RZjSPSoxu9",
        "outputId": "d760ceae-e011-41e6-b0b2-6766b232b6a1"
      },
      "execution_count": null,
      "outputs": [
        {
          "output_type": "execute_result",
          "data": {
            "text/plain": [
              "-101"
            ]
          },
          "metadata": {},
          "execution_count": 93
        }
      ]
    },
    {
      "cell_type": "code",
      "source": [
        "18 ^ 3"
      ],
      "metadata": {
        "colab": {
          "base_uri": "https://localhost:8080/"
        },
        "id": "pu-7TP41tpZB",
        "outputId": "3f031668-6b51-4402-9865-f43e7cd53485"
      },
      "execution_count": null,
      "outputs": [
        {
          "output_type": "execute_result",
          "data": {
            "text/plain": [
              "17"
            ]
          },
          "metadata": {},
          "execution_count": 103
        }
      ]
    },
    {
      "cell_type": "code",
      "source": [
        "#18bin=10010\n",
        "#3bin =00011\n",
        "#17bin=10001\n",
        "bin(17)"
      ],
      "metadata": {
        "colab": {
          "base_uri": "https://localhost:8080/",
          "height": 36
        },
        "id": "AQMpD7WstwuL",
        "outputId": "2ee9fb51-a307-4dcd-9119-4c8cf402000c"
      },
      "execution_count": null,
      "outputs": [
        {
          "output_type": "execute_result",
          "data": {
            "text/plain": [
              "'0b10001'"
            ],
            "application/vnd.google.colaboratory.intrinsic+json": {
              "type": "string"
            }
          },
          "metadata": {},
          "execution_count": 104
        }
      ]
    },
    {
      "cell_type": "code",
      "source": [
        "#Left shift operator<<add\n",
        "#18bin=10010\n",
        "#18<<3=10010[000]=144bin.\n",
        "18<<3"
      ],
      "metadata": {
        "colab": {
          "base_uri": "https://localhost:8080/"
        },
        "id": "K4bZRYqivgdp",
        "outputId": "bb696697-a850-4c60-899a-bd397d69e5dc"
      },
      "execution_count": null,
      "outputs": [
        {
          "output_type": "execute_result",
          "data": {
            "text/plain": [
              "144"
            ]
          },
          "metadata": {},
          "execution_count": 105
        }
      ]
    },
    {
      "cell_type": "code",
      "source": [
        "bin(144)"
      ],
      "metadata": {
        "colab": {
          "base_uri": "https://localhost:8080/",
          "height": 36
        },
        "id": "bVMjBJ3rvl9-",
        "outputId": "3ff17825-a60f-428f-87bc-f4614d7b5f18"
      },
      "execution_count": null,
      "outputs": [
        {
          "output_type": "execute_result",
          "data": {
            "text/plain": [
              "'0b10010000'"
            ],
            "application/vnd.google.colaboratory.intrinsic+json": {
              "type": "string"
            }
          },
          "metadata": {},
          "execution_count": 106
        }
      ]
    },
    {
      "cell_type": "code",
      "source": [
        "#right shift operator>>removes the no. of elements in binary.\n",
        "#18bin=10010\n",
        "#18>>3=10\n",
        "#bin(2)=10\n",
        "18>>3"
      ],
      "metadata": {
        "colab": {
          "base_uri": "https://localhost:8080/"
        },
        "id": "40t78XABwCh3",
        "outputId": "1f582ebc-d301-4add-bb97-183fb8b454e9"
      },
      "execution_count": null,
      "outputs": [
        {
          "output_type": "execute_result",
          "data": {
            "text/plain": [
              "2"
            ]
          },
          "metadata": {},
          "execution_count": 107
        }
      ]
    },
    {
      "cell_type": "code",
      "source": [
        "bin(2)"
      ],
      "metadata": {
        "colab": {
          "base_uri": "https://localhost:8080/",
          "height": 36
        },
        "id": "ZU528Rz7wKy7",
        "outputId": "59bef516-dfd2-4dc7-e5df-9bd78381f322"
      },
      "execution_count": null,
      "outputs": [
        {
          "output_type": "execute_result",
          "data": {
            "text/plain": [
              "'0b10'"
            ],
            "application/vnd.google.colaboratory.intrinsic+json": {
              "type": "string"
            }
          },
          "metadata": {},
          "execution_count": 108
        }
      ]
    },
    {
      "cell_type": "code",
      "source": [
        "#5.Assignment Operator\n",
        "a=1\n",
        "a+=4\n",
        "a/=2\n",
        "a\n",
        "\n"
      ],
      "metadata": {
        "colab": {
          "base_uri": "https://localhost:8080/"
        },
        "id": "8lO_K4CIfHql",
        "outputId": "ac6cc331-9298-48fe-fd2b-4746eecf0555"
      },
      "execution_count": null,
      "outputs": [
        {
          "output_type": "execute_result",
          "data": {
            "text/plain": [
              "2.5"
            ]
          },
          "metadata": {},
          "execution_count": 80
        }
      ]
    },
    {
      "cell_type": "code",
      "source": [
        "#6.Membership Operator\n",
        "a=\"Google\"\n",
        "\"oo\" in a"
      ],
      "metadata": {
        "colab": {
          "base_uri": "https://localhost:8080/"
        },
        "id": "9m5PxBv9hw43",
        "outputId": "5494fe2c-548c-4144-9fd8-ce4f06de31b1"
      },
      "execution_count": null,
      "outputs": [
        {
          "output_type": "execute_result",
          "data": {
            "text/plain": [
              "True"
            ]
          },
          "metadata": {},
          "execution_count": 85
        }
      ]
    },
    {
      "cell_type": "code",
      "source": [
        "list=[\"data science\",\"data analytica\"]\n",
        "\"data science\" not in list"
      ],
      "metadata": {
        "colab": {
          "base_uri": "https://localhost:8080/"
        },
        "id": "4oj8sLFekEdw",
        "outputId": "a715d44a-9b62-4dbf-9762-c2435d9418bb"
      },
      "execution_count": null,
      "outputs": [
        {
          "output_type": "execute_result",
          "data": {
            "text/plain": [
              "False"
            ]
          },
          "metadata": {},
          "execution_count": 86
        }
      ]
    },
    {
      "cell_type": "code",
      "source": [
        "#7.Identity Operator\n",
        "x=100\n",
        "y=23\n",
        "x is y"
      ],
      "metadata": {
        "colab": {
          "base_uri": "https://localhost:8080/"
        },
        "id": "Q-AC8i_hlaqF",
        "outputId": "25abeabe-be7c-419e-a08b-be8205a45cd8"
      },
      "execution_count": null,
      "outputs": [
        {
          "output_type": "execute_result",
          "data": {
            "text/plain": [
              "False"
            ]
          },
          "metadata": {},
          "execution_count": 87
        }
      ]
    },
    {
      "cell_type": "code",
      "source": [
        "x=100\n",
        "y=100\n",
        "x is y"
      ],
      "metadata": {
        "colab": {
          "base_uri": "https://localhost:8080/"
        },
        "id": "iFIjgwQYlxGx",
        "outputId": "ee4cef21-6c97-4806-c3db-f1db57be4769"
      },
      "execution_count": null,
      "outputs": [
        {
          "output_type": "execute_result",
          "data": {
            "text/plain": [
              "True"
            ]
          },
          "metadata": {},
          "execution_count": 88
        }
      ]
    },
    {
      "cell_type": "code",
      "source": [
        "x=100\n",
        "y=x\n",
        "x is y"
      ],
      "metadata": {
        "colab": {
          "base_uri": "https://localhost:8080/"
        },
        "id": "rJ2JQceil5mp",
        "outputId": "77c3586b-2231-4eb3-a4be-df7eebbd9be3"
      },
      "execution_count": null,
      "outputs": [
        {
          "output_type": "execute_result",
          "data": {
            "text/plain": [
              "True"
            ]
          },
          "metadata": {},
          "execution_count": 89
        }
      ]
    },
    {
      "cell_type": "markdown",
      "source": [
        "5.Explain the concept of type casting in Python with examples"
      ],
      "metadata": {
        "id": "zN30TbWYxpTz"
      }
    },
    {
      "cell_type": "code",
      "source": [
        "#type casting function convert one form of data type into another form of data type.\n",
        "a=10\n",
        "type(a)#<int>\n",
        "b=\"31\"\n",
        "type(b)#<str>\n",
        "str(31)      #integer to string conversion\n",
        "float(a)     #integer to float conversion"
      ],
      "metadata": {
        "colab": {
          "base_uri": "https://localhost:8080/"
        },
        "id": "gqahw4VKyLqH",
        "outputId": "772e438b-7eac-467d-beaf-e093fe6ed848"
      },
      "execution_count": null,
      "outputs": [
        {
          "output_type": "execute_result",
          "data": {
            "text/plain": [
              "10.0"
            ]
          },
          "metadata": {},
          "execution_count": 113
        }
      ]
    },
    {
      "cell_type": "markdown",
      "source": [
        " 6.How do conditional statements work in Python? Illustrate with examples."
      ],
      "metadata": {
        "id": "xj3kxIzU0C8d"
      }
    },
    {
      "cell_type": "code",
      "source": [
        "weather=input(\"Type Today's weather condition,rainy,cloudy,sunny:\")\n",
        "if weather=='rainy':\n",
        " print(\"I will take a leave.\")\n",
        "elif weather=='cloudy':\n",
        " print('I will think.')\n",
        "else:\n",
        " print('I will go to the college')"
      ],
      "metadata": {
        "colab": {
          "base_uri": "https://localhost:8080/"
        },
        "outputId": "6c439ce0-eb2c-422d-d66a-7e41b7aa4bbf",
        "id": "unlndjh10XOn"
      },
      "execution_count": null,
      "outputs": [
        {
          "output_type": "stream",
          "name": "stdout",
          "text": [
            "Type Today's weather condition,rainy,cloudy,sunny:cloudy\n",
            "I will think.\n"
          ]
        }
      ]
    },
    {
      "cell_type": "markdown",
      "source": [
        " 7.Describe the different types of loops in Python and their use cases with examples."
      ],
      "metadata": {
        "id": "OuJLXtkP0Z17"
      }
    },
    {
      "cell_type": "code",
      "source": [
        "#Loops:-It allows to execute block of code repeatedly\n",
        "#WHILE LOOP=repeatedly execute a block of code until a condition is met.\n",
        "row =1\n",
        "while row<=3:\n",
        "    col =1\n",
        "    while col<=3:\n",
        "        print(\"*\",end=\"\")\n",
        "        col=col+1\n",
        "    print()#new line\n",
        "    row=row+1"
      ],
      "metadata": {
        "id": "KmZHteio0p7h",
        "colab": {
          "base_uri": "https://localhost:8080/"
        },
        "outputId": "024ff946-04c2-4dc7-d4db-cfc187a02835"
      },
      "execution_count": null,
      "outputs": [
        {
          "output_type": "stream",
          "name": "stdout",
          "text": [
            "***\n",
            "***\n",
            "***\n"
          ]
        }
      ]
    },
    {
      "cell_type": "code",
      "source": [
        "#FOR LOOP=iterate over a sequence of elements.\n",
        "m=[2,4,6,8,\"full\"]\n",
        "for i in m:\n",
        "  if i==6:\n",
        "    break\n",
        "  print(i)"
      ],
      "metadata": {
        "colab": {
          "base_uri": "https://localhost:8080/"
        },
        "id": "R7NjKPVWsv_r",
        "outputId": "fab498ee-900b-4fd6-d30a-c92b36f0ffaa"
      },
      "execution_count": null,
      "outputs": [
        {
          "output_type": "stream",
          "name": "stdout",
          "text": [
            "2\n",
            "4\n"
          ]
        }
      ]
    },
    {
      "cell_type": "code",
      "source": [
        "m=[\"max\",\"optimization\"]\n",
        "for i in m:\n",
        "  if i==\"max\":\n",
        "    continue\n",
        "  print(i)"
      ],
      "metadata": {
        "colab": {
          "base_uri": "https://localhost:8080/"
        },
        "id": "9Y9K0_q1syaN",
        "outputId": "af6187c5-b1b8-438a-e885-5a0129f2e762"
      },
      "execution_count": null,
      "outputs": [
        {
          "output_type": "stream",
          "name": "stdout",
          "text": [
            "optimization\n"
          ]
        }
      ]
    }
  ]
}