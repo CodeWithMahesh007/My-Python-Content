{
  "nbformat": 4,
  "nbformat_minor": 0,
  "metadata": {
    "colab": {
      "provenance": []
    },
    "kernelspec": {
      "name": "python3",
      "display_name": "Python 3"
    },
    "language_info": {
      "name": "python"
    }
  },
  "cells": [
    {
      "cell_type": "markdown",
      "source": [
        "What are data structures, and why are they important?\n",
        "\n",
        "-->Data structures in python are listed below:\n",
        "\n",
        "\n",
        "*   List\n",
        "*   tuple\n",
        "*   Set\n",
        "*   Dictionaries\n",
        "*   Array\n",
        "*   stack and queue\n",
        "\n",
        " Data structures play a pivotal role in computer science and programming, as they are essential for storing,\n",
        "organizing, and manipulating data efficiently.\n",
        "\n",
        " Python, a versatile and popular programming language, provides a wide array of data structures to\n",
        "accommodate various needs.\n",
        "\n",
        "Data Handling: Programming often involves working with data, which can be numbers, text, or more\n",
        "complex information. Data structures are like specialized containers that help us manage this data\n",
        "efficiently\n",
        "\n",
        "Organization: Just as you use different shelves, drawers, and containers at home to organize various\n",
        "items, in programming, you use different data structures to organize different types of data.\n",
        "\n",
        "Efficiency: The choice of data structure can significantly impact how quickly you can access, manipulate,\n",
        "and process your data. Picking the right data structure is crucial for writing efficient code\n",
        "\n",
        "Flexibility: Different data structures serve different purposes. Some are great for storing lots of data, while\n",
        "others are optimized for quick searches or data retrieval.\n",
        "\n",
        "Built-in Tools: Python provides a rich set of built-in data structures that make it easier for programmers to\n",
        "handle common data management tasks without having to build everything from scratch\n",
        "\n",
        "Real-World Analogy: You can think of data structures as tools in your toolbox. For example, if you want to\n",
        "organize your books, you might use a bookshelf (analogous to a list). If you want to store unique items,\n",
        "like a collection of rare coins, you'd use a display case (analogous to a set)a\n",
        "k Custom Data Structures: In addition to built-in data structures, Python allows you to create custom data\n",
        "structures to suit your specific needs. This is akin to crafting your own unique container for a particular\n",
        "purpose.\n",
        "\n",
        "\n",
        "\n",
        "\n"
      ],
      "metadata": {
        "id": "oWTBEayALDho"
      }
    },
    {
      "cell_type": "markdown",
      "source": [
        "Explain the difference between mutable and immutable data types with examples\n",
        "\n",
        "==>Mutable: Can be changed after creation. Example: Lists ([1, 2, 3]).\n",
        "\n",
        "Immutable: Cannot be changed after creation. Example: Strings (\"hello\")."
      ],
      "metadata": {
        "id": "KvIvwLaQLDj6"
      }
    },
    {
      "cell_type": "markdown",
      "source": [
        "What are the main differences between lists and tuples in Python\n",
        "\n",
        "-->Lists: Mutable, can be changed. Example: [1, 2, 3].\n",
        "\n",
        "Tuples: Immutable, cannot be changed. Example: (1, 2, 3)."
      ],
      "metadata": {
        "id": "tHXdgGppLDmG"
      }
    },
    {
      "cell_type": "markdown",
      "source": [
        "Describe how dictionaries store data\n",
        "Dictionaries store data.\n",
        "\n",
        "-->as key-value pairs. Example: {\"name\": \"Alice\", \"age\": 25}.\n",
        "\n"
      ],
      "metadata": {
        "id": "QxQ-snVhLDor"
      }
    },
    {
      "cell_type": "markdown",
      "source": [
        "Why might you use a set instead of a list in Python?\n",
        "\n",
        "-->Sets are used to store unique elements and perform fast membership tests. Example: {1, 2, 3}."
      ],
      "metadata": {
        "id": "X46JrFJcLDqq"
      }
    },
    {
      "cell_type": "markdown",
      "source": [
        "What is a string in Python, and how is it different from a list?\n",
        "\n",
        "-->A string is a sequence of characters. Unlike lists, strings are immutable. Example: \"hello\" vs. ['h', 'e', 'l', 'l', 'o']."
      ],
      "metadata": {
        "id": "Ur9bVJpqLDsu"
      }
    },
    {
      "cell_type": "markdown",
      "source": [
        "How do tuples ensure data integrity in Python?\n",
        "\n",
        "-->Tuples are immutable, so their contents cannot be changed, ensuring data integrity."
      ],
      "metadata": {
        "id": "v9NY0zTWLDvB"
      }
    },
    {
      "cell_type": "markdown",
      "source": [
        "What is a hash table, and how does it relate to dictionaries in Python?\n",
        "\n",
        "-->A hash table is a data structure that maps keys to values using a hash function. Dictionaries in Python are implemented using hash tables."
      ],
      "metadata": {
        "id": "L9CNHeiuLDxP"
      }
    },
    {
      "cell_type": "markdown",
      "source": [
        "Can lists contain different data types in Python?\n",
        "-->Yes, lists can contain different data types. Example: [1, \"hello\", 3.14]."
      ],
      "metadata": {
        "id": "LZrr-5gkLDzW"
      }
    },
    {
      "cell_type": "markdown",
      "source": [
        "Explain why strings are immutable in Python.\n",
        "\n",
        "-->Strings are immutable to ensure data integrity and allow for safe sharing and caching."
      ],
      "metadata": {
        "id": "_05Ttk7PLD1p"
      }
    },
    {
      "cell_type": "markdown",
      "source": [
        "What advantages do dictionaries offer over lists for certain tasks?\n",
        "\n",
        "-->Dictionaries offer fast lookups, insertions, and deletions using keys, making them efficient for tasks requiring key-value pairs."
      ],
      "metadata": {
        "id": "lFyPxJUoLD49"
      }
    },
    {
      "cell_type": "markdown",
      "source": [
        "How do sets handle duplicate values in Python?\n",
        "-->Sets automatically remove duplicate values. Example: {1, 2, 2, 3} becomes {1, 2, 3}."
      ],
      "metadata": {
        "id": "QjmiJcS5LEAl"
      }
    },
    {
      "cell_type": "markdown",
      "source": [
        "Describe a scenario where using a tuple would be preferable over a list.\n",
        "\n",
        "-->Use a tuple when you need an immutable sequence of elements, such as coordinates (x, y)."
      ],
      "metadata": {
        "id": "DpF3yQL8LEDC"
      }
    },
    {
      "cell_type": "markdown",
      "source": [
        "How does the “in” keyword work differently for lists and dictionaries?\n",
        "\n",
        "Lists: Checks if an element is in the list. Example: 3 in [1, 2, 3] returns True.\n",
        "\n",
        "Dictionaries: Checks if a key is in the dictionary. Example: \"name\" in {\"name\": \"Alice\"} returns True."
      ],
      "metadata": {
        "id": "erqA_bKUOgbv"
      }
    },
    {
      "cell_type": "markdown",
      "source": [
        "Can you modify the elements of a tuple? Explain why or why not\n",
        "\n",
        "-->No, you cannot modify the elements of a tuple because tuples are immutable."
      ],
      "metadata": {
        "id": "NCzLB5SqOgoy"
      }
    },
    {
      "cell_type": "markdown",
      "source": [
        "What is a nested dictionary, and give an example of its use case?\n",
        "\n",
        "-->A nested dictionary is a dictionary within a dictionary. Example: {\"person\": {\"name\": \"Alice\", \"age\": 25}}."
      ],
      "metadata": {
        "id": "IyXdORDjOgq6"
      }
    },
    {
      "cell_type": "markdown",
      "source": [
        "Describe the time complexity of accessing elements in a dictionary.\n",
        "\n",
        "-->Accessing elements in a dictionary has an average time complexity of O(1) due to the use of hash tables."
      ],
      "metadata": {
        "id": "eMBHYOYbOgtM"
      }
    },
    {
      "cell_type": "markdown",
      "source": [
        "In what situations are lists preferred over dictionaries?\n",
        "\n",
        "-->Lists are preferred when you need an ordered collection of elements or when the order of elements matters."
      ],
      "metadata": {
        "id": "19dlQ5Z3OgvP"
      }
    },
    {
      "cell_type": "markdown",
      "source": [
        "Why are dictionaries considered unordered, and how does that affect data retrieval?\n",
        "\n",
        "-->Dictionaries are considered unordered because they do not maintain the order of elements. This means you cannot rely on the order of key-value pairs when retrieving data."
      ],
      "metadata": {
        "id": "nfVAEzBDOgxi"
      }
    },
    {
      "cell_type": "markdown",
      "source": [
        "Explain the difference between a list and a dictionary in terms of data retrieval?\n",
        "\n",
        "-->List: Retrieve elements by index. Example: my_list[0].\n",
        "\n",
        "Dictionary: Retrieve elements by key. Example: my_dict[\"name\"]."
      ],
      "metadata": {
        "id": "lECNlTkxOg1C"
      }
    },
    {
      "cell_type": "markdown",
      "source": [
        " Write a code to create a string with your name and print it"
      ],
      "metadata": {
        "id": "LYIascqvLEGj"
      }
    },
    {
      "cell_type": "code",
      "source": [
        "str=\"Mahesh\"\n",
        "print(str)"
      ],
      "metadata": {
        "colab": {
          "base_uri": "https://localhost:8080/"
        },
        "id": "o33my3xmI4NC",
        "outputId": "e79f3d37-7384-4edb-8e42-e3712d30b5c9"
      },
      "execution_count": null,
      "outputs": [
        {
          "output_type": "stream",
          "name": "stdout",
          "text": [
            "Mahesh\n"
          ]
        }
      ]
    },
    {
      "cell_type": "markdown",
      "source": [
        "Write a code to find the length of the string \"Hello World\""
      ],
      "metadata": {
        "id": "1nMrJxlzJHYF"
      }
    },
    {
      "cell_type": "code",
      "source": [
        "str=\"Hello world\"\n",
        "len(str)"
      ],
      "metadata": {
        "colab": {
          "base_uri": "https://localhost:8080/"
        },
        "id": "qTabSJer-yY3",
        "outputId": "fbf11fcd-5019-41e7-9da9-a87319b153de"
      },
      "execution_count": null,
      "outputs": [
        {
          "output_type": "execute_result",
          "data": {
            "text/plain": [
              "11"
            ]
          },
          "metadata": {},
          "execution_count": 3
        }
      ]
    },
    {
      "cell_type": "markdown",
      "source": [
        "Write a code to slice the first 3 characters from the string \"Python Programming\""
      ],
      "metadata": {
        "id": "ozaVSRGoJPEN"
      }
    },
    {
      "cell_type": "code",
      "source": [
        "str=\"Python Programmind\"\n",
        "x=slice(0,3)\n",
        "print(str[x])"
      ],
      "metadata": {
        "colab": {
          "base_uri": "https://localhost:8080/"
        },
        "id": "bJXM7m_k-ybR",
        "outputId": "b9fc3b36-fe7d-4284-d3f8-a4e213f24ca9"
      },
      "execution_count": null,
      "outputs": [
        {
          "output_type": "stream",
          "name": "stdout",
          "text": [
            "Pyt\n"
          ]
        }
      ]
    },
    {
      "cell_type": "markdown",
      "source": [
        "Write a code to convert the string \"hello\" to uppercase"
      ],
      "metadata": {
        "id": "ijVevSj4JTQd"
      }
    },
    {
      "cell_type": "code",
      "source": [
        "str=\"hello\"\n",
        "str.upper()"
      ],
      "metadata": {
        "colab": {
          "base_uri": "https://localhost:8080/",
          "height": 36
        },
        "id": "6x6b2FSR-ycn",
        "outputId": "034657aa-0800-472c-eff3-80d662c3ed33"
      },
      "execution_count": null,
      "outputs": [
        {
          "output_type": "execute_result",
          "data": {
            "text/plain": [
              "'HELLO'"
            ],
            "application/vnd.google.colaboratory.intrinsic+json": {
              "type": "string"
            }
          },
          "metadata": {},
          "execution_count": 9
        }
      ]
    },
    {
      "cell_type": "markdown",
      "source": [
        "Write a code to replace the word \"apple\" with \"orange\" in the string \"I like apple\""
      ],
      "metadata": {
        "id": "PX27Vsf1JW60"
      }
    },
    {
      "cell_type": "code",
      "source": [
        "str=\"I Like Orange\"\n",
        "str.replace(\"Orange\",\"Apple\")"
      ],
      "metadata": {
        "colab": {
          "base_uri": "https://localhost:8080/",
          "height": 36
        },
        "id": "KSulwprO-yeo",
        "outputId": "cb5ca237-2b5b-47a2-8e12-950b373750cd"
      },
      "execution_count": null,
      "outputs": [
        {
          "output_type": "execute_result",
          "data": {
            "text/plain": [
              "'I Like Apple'"
            ],
            "application/vnd.google.colaboratory.intrinsic+json": {
              "type": "string"
            }
          },
          "metadata": {},
          "execution_count": 10
        }
      ]
    },
    {
      "cell_type": "markdown",
      "source": [
        "Write a code to create a list with numbers 1 to 5 and print it"
      ],
      "metadata": {
        "id": "IxxSPGa2JbJv"
      }
    },
    {
      "cell_type": "code",
      "source": [
        "num=[1,2,3,4,5]\n",
        "print(num)"
      ],
      "metadata": {
        "colab": {
          "base_uri": "https://localhost:8080/"
        },
        "id": "5dogfQea-yiE",
        "outputId": "978c5b53-ec4a-456a-b39a-8045eba5cd70"
      },
      "execution_count": null,
      "outputs": [
        {
          "output_type": "stream",
          "name": "stdout",
          "text": [
            "[1, 2, 3, 4, 5]\n"
          ]
        }
      ]
    },
    {
      "cell_type": "markdown",
      "source": [
        "Write a code to append the number 10 to the list [1, 2, 3, 4]"
      ],
      "metadata": {
        "id": "ey3hj2LbJfd_"
      }
    },
    {
      "cell_type": "code",
      "source": [
        "num=[1,2,3,4]\n",
        "num.append(10)\n",
        "print(num)"
      ],
      "metadata": {
        "colab": {
          "base_uri": "https://localhost:8080/"
        },
        "id": "NhudT3UU-ykC",
        "outputId": "c41fc9f9-5938-4bc6-a0c5-68c6b0dce816"
      },
      "execution_count": null,
      "outputs": [
        {
          "output_type": "stream",
          "name": "stdout",
          "text": [
            "[1, 2, 3, 4, 10]\n"
          ]
        }
      ]
    },
    {
      "cell_type": "markdown",
      "source": [
        "Write a code to remove the number 3 from the list [1, 2, 3, 4, 5]"
      ],
      "metadata": {
        "id": "aLt9frhyJlni"
      }
    },
    {
      "cell_type": "code",
      "source": [
        "num=[1,2,3,4,5]\n",
        "num.remove(3)\n",
        "print(num)"
      ],
      "metadata": {
        "colab": {
          "base_uri": "https://localhost:8080/"
        },
        "id": "u2BtIslbAngo",
        "outputId": "ad846c04-62b4-418f-8bd6-825b1f5c0384"
      },
      "execution_count": null,
      "outputs": [
        {
          "output_type": "stream",
          "name": "stdout",
          "text": [
            "[1, 2, 4, 5]\n"
          ]
        }
      ]
    },
    {
      "cell_type": "markdown",
      "source": [
        "Write a code to access the second element in the list ['a', 'b', 'c', 'd']"
      ],
      "metadata": {
        "id": "Luo2EOYzJpz6"
      }
    },
    {
      "cell_type": "code",
      "source": [
        "alpha=[\"a\",\"b\",\"c\",\"d\"]\n",
        "alpha[1]"
      ],
      "metadata": {
        "colab": {
          "base_uri": "https://localhost:8080/",
          "height": 36
        },
        "id": "XjGCjoseAni2",
        "outputId": "ca5d358c-367d-4790-ada7-8d6ccae29e9e"
      },
      "execution_count": null,
      "outputs": [
        {
          "output_type": "execute_result",
          "data": {
            "text/plain": [
              "'b'"
            ],
            "application/vnd.google.colaboratory.intrinsic+json": {
              "type": "string"
            }
          },
          "metadata": {},
          "execution_count": 21
        }
      ]
    },
    {
      "cell_type": "markdown",
      "source": [
        " Write a code to reverse the list [10, 20, 30, 40, 50]."
      ],
      "metadata": {
        "id": "q7_XVpfNJq_-"
      }
    },
    {
      "cell_type": "code",
      "source": [
        "num=[10,20,30,40,50]\n",
        "num.reverse()\n",
        "print(num)"
      ],
      "metadata": {
        "colab": {
          "base_uri": "https://localhost:8080/"
        },
        "id": "spua1ytFAnk0",
        "outputId": "83e1b10f-4e20-47bc-b990-95af3b386884"
      },
      "execution_count": null,
      "outputs": [
        {
          "output_type": "stream",
          "name": "stdout",
          "text": [
            "[50, 40, 30, 20, 10]\n"
          ]
        }
      ]
    },
    {
      "cell_type": "markdown",
      "source": [
        " Write a code to create a tuple with the elements 10, 20, 30 and print it."
      ],
      "metadata": {
        "id": "prBQTdRSJr4N"
      }
    },
    {
      "cell_type": "code",
      "source": [
        "num=(10,20,30)\n",
        "print(num)"
      ],
      "metadata": {
        "colab": {
          "base_uri": "https://localhost:8080/"
        },
        "id": "iv9gghYqAnnF",
        "outputId": "1e957d22-6d8a-4b9c-c93d-364e8ea1e1f5"
      },
      "execution_count": null,
      "outputs": [
        {
          "output_type": "stream",
          "name": "stdout",
          "text": [
            "(10, 20, 30)\n"
          ]
        }
      ]
    },
    {
      "cell_type": "markdown",
      "source": [
        "Write a code to access the first element of the tuple ('apple', 'banana', 'cherry')."
      ],
      "metadata": {
        "id": "jiLfIkMMJtMX"
      }
    },
    {
      "cell_type": "code",
      "source": [
        "fruit=('apple','banana','cherry')\n",
        "fruit[0]"
      ],
      "metadata": {
        "colab": {
          "base_uri": "https://localhost:8080/",
          "height": 36
        },
        "id": "FWtKluZdAnpa",
        "outputId": "f72c9e39-b06b-4ecd-d980-3ecebb59b4b0"
      },
      "execution_count": null,
      "outputs": [
        {
          "output_type": "execute_result",
          "data": {
            "text/plain": [
              "'apple'"
            ],
            "application/vnd.google.colaboratory.intrinsic+json": {
              "type": "string"
            }
          },
          "metadata": {},
          "execution_count": 29
        }
      ]
    },
    {
      "cell_type": "markdown",
      "source": [
        " Write a code to count how many times the number 2 appears in the tuple (1, 2, 3, 2, 4, 2)."
      ],
      "metadata": {
        "id": "W92cVqg8JuKF"
      }
    },
    {
      "cell_type": "code",
      "source": [
        "my_tuple=(1,2,3,2,4,2)\n",
        "count=my_tuple.count(2)\n",
        "print(count)"
      ],
      "metadata": {
        "colab": {
          "base_uri": "https://localhost:8080/"
        },
        "id": "vy7XiBXaAnrZ",
        "outputId": "99135f2a-951b-488c-87e2-1d6fde20487c"
      },
      "execution_count": null,
      "outputs": [
        {
          "output_type": "stream",
          "name": "stdout",
          "text": [
            "3\n"
          ]
        }
      ]
    },
    {
      "cell_type": "markdown",
      "source": [
        "Write a code to find the index of the element \"cat\" in the tuple ('dog', 'cat', 'rabbit')."
      ],
      "metadata": {
        "id": "uVwSGq03JviF"
      }
    },
    {
      "cell_type": "code",
      "source": [
        "animal=('dog','cat','rabbit')\n",
        "index=animal.index('cat')\n",
        "print(index)"
      ],
      "metadata": {
        "colab": {
          "base_uri": "https://localhost:8080/"
        },
        "id": "yk9Id_UpAnt7",
        "outputId": "905fc7e3-695e-4b63-858b-3785124c0360"
      },
      "execution_count": null,
      "outputs": [
        {
          "output_type": "stream",
          "name": "stdout",
          "text": [
            "1\n"
          ]
        }
      ]
    },
    {
      "cell_type": "markdown",
      "source": [
        "Write a code to check if the element \"banana\" is in the tuple ('apple', 'orange', 'banana')"
      ],
      "metadata": {
        "id": "n0iwqHUtJwfR"
      }
    },
    {
      "cell_type": "code",
      "source": [
        "fruit=('apple','banana','orange')\n",
        "if 'banana' in fruit:\n",
        "  print(\"Yes\")\n",
        "else:\n",
        "  print(\"No\")"
      ],
      "metadata": {
        "colab": {
          "base_uri": "https://localhost:8080/"
        },
        "id": "uxHT7pQyAnwe",
        "outputId": "5e147524-238d-4ab9-d54c-6f9ee12994ab"
      },
      "execution_count": null,
      "outputs": [
        {
          "output_type": "stream",
          "name": "stdout",
          "text": [
            "Yes\n"
          ]
        }
      ]
    },
    {
      "cell_type": "markdown",
      "source": [
        "Write a code to create a set with the elements 1, 2, 3, 4, 5 and print it."
      ],
      "metadata": {
        "id": "1gFMCHpkJxM5"
      }
    },
    {
      "cell_type": "code",
      "source": [
        "element={1,2,3,4,5}\n",
        "print(element)"
      ],
      "metadata": {
        "colab": {
          "base_uri": "https://localhost:8080/"
        },
        "id": "O2kUEmEbAnyo",
        "outputId": "72428863-be77-4a5f-e500-9c8fbf7bed20"
      },
      "execution_count": null,
      "outputs": [
        {
          "output_type": "stream",
          "name": "stdout",
          "text": [
            "{1, 2, 3, 4, 5}\n"
          ]
        }
      ]
    },
    {
      "cell_type": "markdown",
      "source": [
        "Write a code to add the element 6 to the set {1, 2, 3, 4}."
      ],
      "metadata": {
        "id": "s043Do79JySJ"
      }
    },
    {
      "cell_type": "code",
      "source": [
        "element={1,2,3,4,5}\n",
        "element.add(6)\n",
        "element"
      ],
      "metadata": {
        "colab": {
          "base_uri": "https://localhost:8080/"
        },
        "id": "pr7xjjC_An0n",
        "outputId": "fcba86df-a38c-447d-b601-16f5b482e537"
      },
      "execution_count": null,
      "outputs": [
        {
          "output_type": "execute_result",
          "data": {
            "text/plain": [
              "{1, 2, 3, 4, 5, 6}"
            ]
          },
          "metadata": {},
          "execution_count": 53
        }
      ]
    },
    {
      "cell_type": "markdown",
      "source": [
        "Write a code to create a tuple with the elements 10, 20, 30 and print it."
      ],
      "metadata": {
        "id": "BqhHEwzPJz5T"
      }
    },
    {
      "cell_type": "code",
      "source": [
        "elements=10,20,30\n",
        "#connverting them into tuple\n",
        "tuple_elements=(10,20,30)\n",
        "print(tuple_elements)"
      ],
      "metadata": {
        "colab": {
          "base_uri": "https://localhost:8080/"
        },
        "id": "sJgmqIs8An2g",
        "outputId": "f2544cf0-db58-4677-8889-7405b44edbb8"
      },
      "execution_count": null,
      "outputs": [
        {
          "output_type": "stream",
          "name": "stdout",
          "text": [
            "(10, 20, 30)\n"
          ]
        }
      ]
    }
  ]
}